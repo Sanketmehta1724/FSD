{
 "cells": [
  {
   "cell_type": "code",
   "execution_count": 2,
   "metadata": {},
   "outputs": [
    {
     "name": "stdout",
     "output_type": "stream",
     "text": [
      "demo1 -1\n",
      "\n",
      "demo2 -1\n",
      "\n",
      "demo1 -2\n",
      "\n",
      "demo2 -2\n",
      "\n",
      "demo1 -3\n",
      "\n",
      "demo2 -3\n",
      "\n",
      "demo1 -4\n",
      "\n",
      "demo2 -4\n",
      "\n",
      "demo1 -5\n",
      "\n",
      "demo2 -5\n",
      "\n",
      "demo1 -6\n",
      "\n",
      "demo2 -6\n",
      "\n",
      "demo2 -7\n",
      "\n",
      "demo2 -8\n",
      "\n",
      "demo2 -9\n"
     ]
    }
   ],
   "source": [
    "#to write line of two files one by one\n",
    "f1=open(\"demo1\",\"r\")\n",
    "f2=open(\"demo2\",\"r\")\n",
    "lf1=len(f1.read())\n",
    "lf2=len(f2.read())\n",
    "f1.seek(0)\n",
    "f2.seek(0)\n",
    "x=0\n",
    "y=0\n",
    "while(True):\n",
    "    if(f1.tell()==lf1):\n",
    "        x=1\n",
    "        pass\n",
    "    else:\n",
    "        print(f1.readline())\n",
    "    if(f2.tell()==lf2):\n",
    "        y=1\n",
    "        pass\n",
    "    else:\n",
    "        print(f2.readline())\n",
    "    if(x==1 and y==1):\n",
    "        break;"
   ]
  },
  {
   "cell_type": "code",
   "execution_count": 1,
   "metadata": {},
   "outputs": [
    {
     "name": "stdout",
     "output_type": "stream",
     "text": [
      "demo1 -1\n",
      "\n",
      "demo2 -1\n",
      "\n",
      "demo1 -2\n",
      "\n",
      "demo2 -2\n",
      "\n",
      "demo1 -3\n",
      "\n",
      "demo2 -3\n",
      "\n",
      "demo1 -4\n",
      "\n",
      "demo2 -4\n",
      "\n",
      "demo1 -5\n",
      "\n",
      "demo2 -5\n",
      "\n",
      "demo1 -6\n",
      "\n",
      "demo2 -6\n",
      "\n",
      "demo2 -7\n",
      "\n",
      "demo2 -8\n",
      "\n",
      "demo2 -9\n"
     ]
    }
   ],
   "source": [
    "#to write line of two files one by one\n",
    "f1=open(\"demo1\",\"r\")\n",
    "f2=open(\"demo2\",\"r\")\n",
    "lf1=len(f1.readlines())\n",
    "lf2=len(f2.readlines())\n",
    "f1.seek(0)\n",
    "f2.seek(0)\n",
    "while(lf1!=0 or lf2!=0):\n",
    "    if(lf1>0):\n",
    "        print(f1.readline())\n",
    "        lf1-=1\n",
    "    if(lf2>0):\n",
    "        print(f2.readline())\n",
    "        lf2-=1"
   ]
  },
  {
   "cell_type": "code",
   "execution_count": 4,
   "metadata": {},
   "outputs": [
    {
     "name": "stdout",
     "output_type": "stream",
     "text": [
      "master-builder\n"
     ]
    }
   ],
   "source": [
    "#write the longest word\n",
    "f1=open(\"demo1\",\"r\")\n",
    "lines=f1.readlines()\n",
    "m=lines[0][0]\n",
    "for i in lines:\n",
    "    s=i.split()\n",
    "    for j in s:\n",
    "        if(len(j)>len(m)):\n",
    "            m=j\n",
    "print(m)"
   ]
  },
  {
   "cell_type": "code",
   "execution_count": 9,
   "metadata": {},
   "outputs": [
    {
     "name": "stdout",
     "output_type": "stream",
     "text": [
      "Writing demo.txt\n"
     ]
    }
   ],
   "source": [
    "%%writefile demo.txt\n",
    "print(\"hi\")"
   ]
  },
  {
   "cell_type": "code",
   "execution_count": null,
   "metadata": {},
   "outputs": [],
   "source": []
  }
 ],
 "metadata": {
  "kernelspec": {
   "display_name": "Python 3",
   "language": "python",
   "name": "python3"
  },
  "language_info": {
   "codemirror_mode": {
    "name": "ipython",
    "version": 3
   },
   "file_extension": ".py",
   "mimetype": "text/x-python",
   "name": "python",
   "nbconvert_exporter": "python",
   "pygments_lexer": "ipython3",
   "version": "3.8.5"
  }
 },
 "nbformat": 4,
 "nbformat_minor": 4
}
