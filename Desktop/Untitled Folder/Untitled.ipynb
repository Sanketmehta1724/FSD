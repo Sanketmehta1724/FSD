{
 "cells": [
  {
   "cell_type": "code",
   "execution_count": 5,
   "metadata": {},
   "outputs": [
    {
     "name": "stdout",
     "output_type": "stream",
     "text": [
      "None\n"
     ]
    }
   ],
   "source": [
    "print(None and False)"
   ]
  },
  {
   "cell_type": "code",
   "execution_count": 2,
   "metadata": {},
   "outputs": [
    {
     "name": "stdout",
     "output_type": "stream",
     "text": [
      "Enter number : 1\n"
     ]
    }
   ],
   "source": [
    "n = (int(input(\"Enter number : \")))\n",
    "max_value = int(n**(1/3))\n",
    "count=0\n",
    "for i in range (1,max_value):\n",
    "    for j in range(i,max_value):\n",
    "        if n==(i**3)+(j**3):\n",
    "            a=i\n",
    "            b=j\n",
    "            break\n",
    "            \n",
    "for i in range(1,max_value):\n",
    "    for j in range(i,max_value):\n",
    "        if (n==(i**3)+(j**3)) and a!=i and b!=j:\n",
    "            count += 1\n",
    "            c=i\n",
    "            d=j\n",
    "            break\n",
    "            \n",
    "if count==2:\n",
    "    print(n,a,b,c,d)"
   ]
  }
 ],
 "metadata": {
  "kernelspec": {
   "display_name": "Python 3",
   "language": "python",
   "name": "python3"
  },
  "language_info": {
   "codemirror_mode": {
    "name": "ipython",
    "version": 3
   },
   "file_extension": ".py",
   "mimetype": "text/x-python",
   "name": "python",
   "nbconvert_exporter": "python",
   "pygments_lexer": "ipython3",
   "version": "3.8.5"
  }
 },
 "nbformat": 4,
 "nbformat_minor": 4
}
