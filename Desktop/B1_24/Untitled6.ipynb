{
 "cells": [
  {
   "cell_type": "code",
   "execution_count": 9,
   "metadata": {},
   "outputs": [
    {
     "name": "stdout",
     "output_type": "stream",
     "text": [
      "3\n",
      "3\n",
      "(5, 6, 8)\n",
      "{'p': 9, 'q': 'vishal'}\n",
      "\n",
      "3\n",
      "3\n",
      "()\n",
      "{'p': 9, 'q': 'vishal'}\n"
     ]
    }
   ],
   "source": [
    "def f(a,*v,b=3,**vishal):\n",
    "    print(a)\n",
    "    print(b)\n",
    "    print(v)\n",
    "    print(vishal)\n",
    "    \n",
    "f(3,5,6,8,b=3,p=9,q=\"vishal\")\n",
    "print()\n",
    "f(3,p=9,q=\"vishal\")"
   ]
  },
  {
   "cell_type": "code",
   "execution_count": 20,
   "metadata": {},
   "outputs": [
    {
     "name": "stdout",
     "output_type": "stream",
     "text": [
      "Enter number : 20389\n",
      "10524\n"
     ]
    }
   ],
   "source": [
    "num = int(input(\"Enter number : \"))\n",
    "temp = num\n",
    "rev=r=0\n",
    "while temp>0:\n",
    "    r = temp%10\n",
    "    r += 2\n",
    "    rev = rev*10+(r%10)\n",
    "    temp = temp//10\n",
    "print(rev)"
   ]
  },
  {
   "cell_type": "code",
   "execution_count": 4,
   "metadata": {},
   "outputs": [
    {
     "name": "stdout",
     "output_type": "stream",
     "text": [
      "Enter Number : 5\n",
      "Little higher\n",
      "Enter Number : 10\n",
      "Little higher\n",
      "Enter Number : 55\n",
      "Little lower\n",
      "Enter Number : 45\n",
      "Little lower\n",
      "Enter Number : 25\n",
      "Little lower\n",
      "GHAR BHEGU THANE ...!!!\n"
     ]
    }
   ],
   "source": [
    "import random\n",
    "x = random.randint(1,100)\n",
    "for i in range(5):\n",
    "    num = int(input(\"Enter Number(1-100) : \"))\n",
    "    if x>num:\n",
    "        print(\"Little higher\")\n",
    "    elif x<num: \n",
    "        print(\"Little lower\")\n",
    "    else:\n",
    "        print(\"Your guess is correct\",x)\n",
    "        break\n",
    "else:\n",
    "    print(\"GHAR BHEGU THANE ...!!!\")"
   ]
  },
  {
   "cell_type": "code",
   "execution_count": 8,
   "metadata": {},
   "outputs": [
    {
     "name": "stdout",
     "output_type": "stream",
     "text": [
      "Enter number : 5\n",
      "1\n",
      "2\n",
      "3\n",
      "4\n",
      "5\n"
     ]
    }
   ],
   "source": [
    "def f(n):\n",
    "    if n==0:\n",
    "        return\n",
    "    f(n-1)\n",
    "    print(n)\n",
    "    \n",
    "n = int(input(\"Enter number : \"))\n",
    "f(n)"
   ]
  },
  {
   "cell_type": "code",
   "execution_count": 20,
   "metadata": {},
   "outputs": [
    {
     "name": "stdout",
     "output_type": "stream",
     "text": [
      "Enter Limit : 10\n",
      "Fiboonaci Series : \n",
      "0 1 1 2 3 5 8 13 21 34 "
     ]
    }
   ],
   "source": [
    "def fibo(n):\n",
    "    if n<1:\n",
    "        return 0\n",
    "    elif n<2:\n",
    "        return 1\n",
    "    else:\n",
    "        return(fibo(n-1)+fibo(n-2))\n",
    "    \n",
    "n = int(input(\"Enter Limit : \"))\n",
    "print(\"Fiboonaci Series : \")\n",
    "for i in range(n):\n",
    "    print(fibo(i),end=\" \")"
   ]
  }
 ],
 "metadata": {
  "kernelspec": {
   "display_name": "Python 3",
   "language": "python",
   "name": "python3"
  }
 },
 "nbformat": 4,
 "nbformat_minor": 4
}
