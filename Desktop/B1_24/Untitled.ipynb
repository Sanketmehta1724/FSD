{
 "cells": [
  {
   "cell_type": "code",
   "execution_count": 30,
   "metadata": {},
   "outputs": [
    {
     "name": "stdout",
     "output_type": "stream",
     "text": [
      "Enter date : 31\n",
      "Enter month : 12\n",
      "Enter year : 2000\n",
      "Next date : 1/1/2001\n"
     ]
    }
   ],
   "source": [
    "dd=int(input(\"Enter date : \"))\n",
    "mm=int(input(\"Enter month : \"))\n",
    "yy=int(input(\"Enter year : \"))\n",
    "if (mm==1 or mm==3 or mm==5 or mm==7 or mm==8 or mm==10 or mm==12):\n",
    "    max_days = 31\n",
    "elif (mm==4 or mm==6 or mm==9 or mm==11):\n",
    "    max_days = 30\n",
    "elif (mm==2 or (yy%4==0 and (yy%400==0 or yy%100!=0))):\n",
    "    max_days = 29\n",
    "else:\n",
    "    max_days = 28\n",
    "    \n",
    "if (mm<1 and mm>12 and dd<1 and dd>max_days):\n",
    "    print(\"Date is invalid\")\n",
    "else:\n",
    "    if (mm==12 and dd==31):\n",
    "        mm=1\n",
    "        dd=1\n",
    "        yy+=1\n",
    "    elif (dd==max_days):\n",
    "        mm+=1\n",
    "        dd=1\n",
    "    else:\n",
    "        dd+=1\n",
    "print(f\"Next date : {dd}/{mm}/{yy}\")"
   ]
  },
  {
   "cell_type": "code",
   "execution_count": 26,
   "metadata": {},
   "outputs": [
    {
     "name": "stdout",
     "output_type": "stream",
     "text": [
      "1\n",
      "3\n",
      "5\n",
      "7\n",
      "9\n"
     ]
    }
   ],
   "source": [
    "for i in range(1,11,2):      #2 is for skip two digit or odd\n",
    "    print(i)"
   ]
  },
  {
   "cell_type": "code",
   "execution_count": 28,
   "metadata": {},
   "outputs": [
    {
     "name": "stdout",
     "output_type": "stream",
     "text": [
      "0\n",
      "2\n",
      "4\n",
      "6\n",
      "8\n",
      "10\n"
     ]
    }
   ],
   "source": [
    "for i in range(0,11,2):        #even\n",
    "    print(i)"
   ]
  },
  {
   "cell_type": "code",
   "execution_count": 32,
   "metadata": {},
   "outputs": [
    {
     "name": "stdout",
     "output_type": "stream",
     "text": [
      "10\n",
      "9\n",
      "8\n",
      "7\n",
      "6\n",
      "5\n",
      "4\n",
      "3\n",
      "2\n",
      "1\n"
     ]
    }
   ],
   "source": [
    "for i in reversed(range(1,11)):         #range(10,0,-1)\n",
    "    print(i)"
   ]
  },
  {
   "cell_type": "code",
   "execution_count": 37,
   "metadata": {},
   "outputs": [
    {
     "name": "stdout",
     "output_type": "stream",
     "text": [
      "2\n"
     ]
    }
   ],
   "source": [
    "n = 50\n",
    "n = str(n)\n",
    "print(len(n))"
   ]
  }
 ],
 "metadata": {
  "kernelspec": {
   "display_name": "Python 3",
   "language": "python",
   "name": "python3"
  },
  "language_info": {
   "codemirror_mode": {
    "name": "ipython",
    "version": 3
   },
   "file_extension": ".py",
   "mimetype": "text/x-python",
   "name": "python",
   "nbconvert_exporter": "python",
   "pygments_lexer": "ipython3",
   "version": "3.8.5"
  }
 },
 "nbformat": 4,
 "nbformat_minor": 4
}
