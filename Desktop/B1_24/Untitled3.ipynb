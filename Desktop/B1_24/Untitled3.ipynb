{
 "cells": [
  {
   "cell_type": "code",
   "execution_count": 3,
   "metadata": {},
   "outputs": [
    {
     "name": "stdout",
     "output_type": "stream",
     "text": [
      "* * * * * \n",
      "* * * * * \n",
      "* * * * * \n",
      "* * * * * \n",
      "* * * * * \n"
     ]
    }
   ],
   "source": [
    "for i in range(1,6):\n",
    "    for j in range(1,6):\n",
    "        print(\"*\",end=\" \")\n",
    "    print()"
   ]
  },
  {
   "cell_type": "code",
   "execution_count": 5,
   "metadata": {},
   "outputs": [
    {
     "name": "stdout",
     "output_type": "stream",
     "text": [
      "* \n",
      "* * \n",
      "* * * \n",
      "* * * * \n",
      "* * * * * \n"
     ]
    }
   ],
   "source": [
    "for i in range(1,6):\n",
    "    for j in range(1,i+1):\n",
    "        print(\"*\",end=\" \")\n",
    "    print()"
   ]
  },
  {
   "cell_type": "code",
   "execution_count": 8,
   "metadata": {},
   "outputs": [
    {
     "name": "stdout",
     "output_type": "stream",
     "text": [
      "Enter rows : 6\n",
      "* \n",
      "* * \n",
      "* * * \n",
      "* * * * \n",
      "* * * * * \n"
     ]
    }
   ],
   "source": [
    "r=int(input(\"Enter rows : \"))\n",
    "for i in range(1,r):\n",
    "    for j in range(1,i+1):\n",
    "        print(\"*\",end=\" \")\n",
    "    print()"
   ]
  },
  {
   "cell_type": "code",
   "execution_count": 11,
   "metadata": {},
   "outputs": [
    {
     "name": "stdout",
     "output_type": "stream",
     "text": [
      "Enter rows : 6\n",
      "* * * * * \n",
      "* * * * \n",
      "* * * \n",
      "* * \n",
      "* \n"
     ]
    }
   ],
   "source": [
    "r=int(input(\"Enter rows : \"))\n",
    "for i in range(1,r):\n",
    "    for j in range(i,r):\n",
    "        print(\"*\",end=\" \")\n",
    "    print()"
   ]
  },
  {
   "cell_type": "code",
   "execution_count": 14,
   "metadata": {},
   "outputs": [
    {
     "name": "stdout",
     "output_type": "stream",
     "text": [
      "Enter rows : 6\n",
      "* \n",
      "* * \n",
      "* * * \n",
      "* * * * \n",
      "* * * * * \n",
      "* * * * * \n",
      "* * * * \n",
      "* * * \n",
      "* * \n",
      "* \n"
     ]
    }
   ],
   "source": [
    "r=int(input(\"Enter rows : \"))\n",
    "for i in range(1,r):\n",
    "    for j in range(1,i+1):\n",
    "        print(\"*\",end=\" \")\n",
    "    print()\n",
    "for k in range(1,r):\n",
    "    for l in range(k,r):\n",
    "        print(\"*\",end=\" \")\n",
    "    print()"
   ]
  },
  {
   "cell_type": "code",
   "execution_count": 16,
   "metadata": {},
   "outputs": [
    {
     "name": "stdout",
     "output_type": "stream",
     "text": [
      "Enter rows : 6\n",
      "* \n",
      "* * \n",
      "* * * \n",
      "* * * * \n",
      "* * * * * \n",
      "* * * * \n",
      "* * * \n",
      "* * \n",
      "* \n"
     ]
    }
   ],
   "source": [
    "r=int(input(\"Enter rows : \"))\n",
    "for i in range(1,r):\n",
    "    for j in range(1,i+1):\n",
    "        print(\"*\",end=\" \")\n",
    "    print()\n",
    "for k in range(1,r-1):\n",
    "    for l in range(k,r-1):\n",
    "        print(\"*\",end=\" \")\n",
    "    print()"
   ]
  },
  {
   "cell_type": "code",
   "execution_count": 21,
   "metadata": {},
   "outputs": [
    {
     "name": "stdout",
     "output_type": "stream",
     "text": [
      "Enter rows : 6\n",
      "* \n",
      "  * * \n",
      "    * * * \n",
      "      * * * * \n",
      "        * * * * * \n"
     ]
    }
   ],
   "source": [
    "r=int(input(\"Enter rows : \"))\n",
    "for i in range(1,r):\n",
    "    for k in range(1,i):\n",
    "        print(\" \",end=\" \")\n",
    "    for j in range(1,i+1):\n",
    "        print(\"*\",end=\" \")\n",
    "    print()"
   ]
  },
  {
   "cell_type": "code",
   "execution_count": 24,
   "metadata": {},
   "outputs": [
    {
     "name": "stdout",
     "output_type": "stream",
     "text": [
      "Enter rows : 6\n",
      "          * \n",
      "        * * \n",
      "      * * * \n",
      "    * * * * \n",
      "  * * * * * \n"
     ]
    }
   ],
   "source": [
    "r=int(input(\"Enter rows : \"))\n",
    "for i in range(1,r):\n",
    "    for k in range(i,r):\n",
    "        print(\" \",end=\" \")\n",
    "    for j in range(1,i+1):\n",
    "        print(\"*\",end=\" \")\n",
    "    print()"
   ]
  },
  {
   "cell_type": "code",
   "execution_count": 26,
   "metadata": {},
   "outputs": [
    {
     "name": "stdout",
     "output_type": "stream",
     "text": [
      "Enter rows : 6\n",
      "  * * * * * \n",
      "    * * * * \n",
      "      * * * \n",
      "        * * \n",
      "          * \n"
     ]
    }
   ],
   "source": [
    "r=int(input(\"Enter rows : \"))\n",
    "for i in range(1,r):\n",
    "    for k in range(1,i+1):\n",
    "        print(\" \",end=\" \")\n",
    "    for j in range(i,r):\n",
    "        print(\"*\",end=\" \")\n",
    "    print()"
   ]
  },
  {
   "cell_type": "code",
   "execution_count": 46,
   "metadata": {},
   "outputs": [
    {
     "name": "stdout",
     "output_type": "stream",
     "text": [
      "Enter rows : 6\n",
      "            * \n",
      "          * * * \n",
      "        * * * * * \n",
      "      * * * * * * * \n",
      "    * * * * * * * * * \n",
      "  * * * * * * * * * * * \n",
      "    * * * * * * * * * \n",
      "      * * * * * * * \n",
      "        * * * * * \n"
     ]
    }
   ],
   "source": [
    "r=int(input(\"Enter rows : \"))\n",
    "for i in range(1,r):\n",
    "    for k in range(i,r+1):\n",
    "        print(\" \",end=\" \")\n",
    "    for j in range(1,i+1):\n",
    "        print(\"*\",end=\" \")\n",
    "    for z in range(1,i):\n",
    "        print(\"*\",end=\" \")\n",
    "    print()\n",
    "for i in range(1,r-1):\n",
    "    for k in range(1,i+1):\n",
    "        print(\" \",end=\" \")\n",
    "    for j in range(i,r):\n",
    "        print(\"*\",end=\" \")\n",
    "    for z in range(i,r+1):\n",
    "        print(\"*\",end=\" \")\n",
    "    print()\n"
   ]
  },
  {
   "cell_type": "code",
   "execution_count": 48,
   "metadata": {},
   "outputs": [
    {
     "name": "stdout",
     "output_type": "stream",
     "text": [
      "Enter rows : 6\n",
      "* * * * * \n",
      "*       * \n",
      "*       * \n",
      "*       * \n",
      "* * * * * \n"
     ]
    }
   ],
   "source": [
    "r=int(input(\"Enter rows : \"))\n",
    "for i in range(1,r):\n",
    "    for j in range(1,r):\n",
    "        if (i==1 or j==1 or i==5 or j==5):\n",
    "            print(\"*\",end=\" \")\n",
    "        else:\n",
    "            print(\" \",end=\" \")\n",
    "    print()"
   ]
  },
  {
   "cell_type": "code",
   "execution_count": 51,
   "metadata": {},
   "outputs": [
    {
     "name": "stdout",
     "output_type": "stream",
     "text": [
      "Enter rows : 6\n",
      "          $ \n",
      "        $ * \n",
      "      $ * $ \n",
      "    $ * $ * \n",
      "  $ * $ * $ \n"
     ]
    }
   ],
   "source": [
    "r=int(input(\"Enter rows : \"))\n",
    "for i in range(1,r):\n",
    "    for k in range(i,r):\n",
    "        print(\" \",end=\" \")\n",
    "    for j in range(1,i+1):\n",
    "        if (j+k)%2==0:\n",
    "            print(\"$\",end=\" \")\n",
    "        else:\n",
    "            print(\"*\",end=\" \")\n",
    "    print()"
   ]
  },
  {
   "cell_type": "code",
   "execution_count": 95,
   "metadata": {},
   "outputs": [
    {
     "name": "stdout",
     "output_type": "stream",
     "text": [
      "1   2   3   4   5   6   7   8   9   10   \n",
      "  2   3   4   5   6   7   8   9   10   \n",
      "    3   4   5   6   7   8   9   10   \n",
      "      4   5   6   7   8   9   10   \n",
      "        5   6   7   8   9   10   \n",
      "          6   7   8   9   10   \n",
      "            7   8   9   10   \n",
      "              8   9   10   \n",
      "                9   10   \n",
      "                  10   \n",
      "                10   9   \n",
      "              10   9   8   \n",
      "            10   9   8   7   \n",
      "          10   9   8   7   6   \n",
      "        10   9   8   7   6   5   \n",
      "      10   9   8   7   6   5   4   \n",
      "    10   9   8   7   6   5   4   3   \n",
      "  10   9   8   7   6   5   4   3   2   \n",
      "10   9   8   7   6   5   4   3   2   1   \n"
     ]
    }
   ],
   "source": [
    "for i in range(1,11):\n",
    "    for k in range(1,i):\n",
    "        print(\" \",end=\" \")\n",
    "    for j in range(i,11):\n",
    "        print(j,end=\"   \")\n",
    "    print()\n",
    "for i in range(1,11-1):\n",
    "    for k in range(i+1,11-1):\n",
    "        print(\" \",end=\" \")\n",
    "    for j in range(10,10-i-1,-1):\n",
    "        print(j,end=\"   \")\n",
    "    print()"
   ]
  },
  {
   "cell_type": "code",
   "execution_count": 109,
   "metadata": {},
   "outputs": [
    {
     "name": "stdout",
     "output_type": "stream",
     "text": [
      "1 \n",
      "3 2 \n",
      "6 5 4 \n",
      "10 9 8 7 \n"
     ]
    }
   ],
   "source": [
    "c=1\n",
    "for i in range(1,5):\n",
    "    for j in range(c+i-1,c-1,-1):\n",
    "        print(j,end=\" \")\n",
    "    c += i\n",
    "    print()"
   ]
  },
  {
   "cell_type": "code",
   "execution_count": 111,
   "metadata": {},
   "outputs": [
    {
     "name": "stdout",
     "output_type": "stream",
     "text": [
      "1 \n",
      "3 2 \n",
      "6 5 4 \n",
      "10 9 8 7 \n",
      "15 14 13 12 11 \n"
     ]
    }
   ],
   "source": [
    "c=1\n",
    "for i in range(1,6):\n",
    "    for j in range(c+i-1,c-1,-1):\n",
    "        print(j,end=\" \")\n",
    "    c += i\n",
    "    print()"
   ]
  },
  {
   "cell_type": "code",
   "execution_count": 114,
   "metadata": {},
   "outputs": [
    {
     "name": "stdout",
     "output_type": "stream",
     "text": [
      "Enter number : 4\n"
     ]
    },
    {
     "data": {
      "text/plain": [
       "'even'"
      ]
     },
     "execution_count": 114,
     "metadata": {},
     "output_type": "execute_result"
    }
   ],
   "source": [
    "def f(i):\n",
    "    if i%2==0:\n",
    "        return 'even'\n",
    "    return 'odd'\n",
    "\n",
    "i = int(input(\"Enter number : \"))\n",
    "f(i)"
   ]
  }
 ],
 "metadata": {
  "kernelspec": {
   "display_name": "Python 3",
   "language": "python",
   "name": "python3"
  },
  "language_info": {
   "codemirror_mode": {
    "name": "ipython",
    "version": 3
   },
   "file_extension": ".py",
   "mimetype": "text/x-python",
   "name": "python",
   "nbconvert_exporter": "python",
   "pygments_lexer": "ipython3",
   "version": "3.8.5"
  }
 },
 "nbformat": 4,
 "nbformat_minor": 4
}
