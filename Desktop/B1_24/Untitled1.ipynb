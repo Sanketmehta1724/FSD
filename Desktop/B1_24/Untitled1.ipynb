{
 "cells": [
  {
   "cell_type": "code",
   "execution_count": 1,
   "metadata": {},
   "outputs": [
    {
     "name": "stdout",
     "output_type": "stream",
     "text": [
      "Enter number : 153\n",
      "Armstrong\n"
     ]
    }
   ],
   "source": [
    "num = (int(input(\"Enter number : \")))\n",
    "length = len(str(num))\n",
    "length = int(length)\n",
    "temp = num\n",
    "s=0\n",
    "while(temp>0):\n",
    "    r = temp%10\n",
    "    s = s + r**length\n",
    "    temp = temp//10\n",
    "\n",
    "if (s==num):\n",
    "    print(\"Armstrong\")\n",
    "else:\n",
    "    print(\"Not Armstrong\")"
   ]
  },
  {
   "cell_type": "code",
   "execution_count": 19,
   "metadata": {},
   "outputs": [
    {
     "name": "stdout",
     "output_type": "stream",
     "text": [
      "0\n"
     ]
    }
   ],
   "source": [
    "\n",
    "c=0\n",
    "for i in range(0,1000):\n",
    "    temp = i\n",
    "    s=0\n",
    "    l=len(str(i))\n",
    "    l=int(l)\n",
    "    \n",
    "    while(temp>0):\n",
    "        r1 = temp%10\n",
    "        s = s + r1**l\n",
    "        temp = temp//10\n",
    "    if sum==i:\n",
    "        c=c+1\n",
    "        \n",
    "print(c)    #16"
   ]
  },
  {
   "cell_type": "code",
   "execution_count": 21,
   "metadata": {},
   "outputs": [
    {
     "name": "stdout",
     "output_type": "stream",
     "text": [
      "Enter number : 123\n",
      "Reversed :  321\n"
     ]
    }
   ],
   "source": [
    "num = (int(input(\"Enter number : \")))\n",
    "temp = num\n",
    "rev=0\n",
    "while temp>0:\n",
    "    r = temp%10\n",
    "    rev = (rev*10)+r\n",
    "    temp = temp//10\n",
    "    \n",
    "print(\"Reversed : \",rev)"
   ]
  },
  {
   "cell_type": "code",
   "execution_count": 23,
   "metadata": {},
   "outputs": [
    {
     "name": "stdout",
     "output_type": "stream",
     "text": [
      "33\n"
     ]
    }
   ],
   "source": [
    "n=6\n",
    "for i in range(1,6):\n",
    "    if n%2==0:\n",
    "        n+=3\n",
    "    elif n%3==0:\n",
    "        n+=1\n",
    "    if n%4==0:\n",
    "        n+=2\n",
    "    if n%5==0:\n",
    "        n+=3\n",
    "    else:\n",
    "        n+=4\n",
    "\n",
    "print(n)"
   ]
  },
  {
   "cell_type": "code",
   "execution_count": 24,
   "metadata": {},
   "outputs": [
    {
     "name": "stdout",
     "output_type": "stream",
     "text": [
      "13\n",
      "17\n",
      "21\n",
      "26\n",
      "33\n"
     ]
    }
   ],
   "source": [
    "n=6\n",
    "for i in range(1,6):\n",
    "    if n%2==0:\n",
    "        n+=3\n",
    "    elif n%3==0:\n",
    "        n+=1\n",
    "    if n%4==0:\n",
    "        n+=2\n",
    "    if n%5==0:\n",
    "        n+=3\n",
    "    else:\n",
    "        n+=4\n",
    "    \n",
    "    print(n)"
   ]
  },
  {
   "cell_type": "code",
   "execution_count": 27,
   "metadata": {},
   "outputs": [
    {
     "name": "stdout",
     "output_type": "stream",
     "text": [
      "57\n"
     ]
    }
   ],
   "source": [
    "n=6\n",
    "while n<55:\n",
    "    if n%2==0:\n",
    "        n+=7\n",
    "    elif n%3==0:\n",
    "        n+=2\n",
    "    if n%4==0:\n",
    "        n+=3\n",
    "    if n%5==0:\n",
    "        n+=6\n",
    "    else:\n",
    "        n+=4\n",
    "\n",
    "print(n)"
   ]
  }
 ],
 "metadata": {
  "kernelspec": {
   "display_name": "Python 3",
   "language": "python",
   "name": "python3"
  },
  "language_info": {
   "codemirror_mode": {
    "name": "ipython",
    "version": 3
   },
   "file_extension": ".py",
   "mimetype": "text/x-python",
   "name": "python",
   "nbconvert_exporter": "python",
   "pygments_lexer": "ipython3",
   "version": "3.8.5"
  }
 },
 "nbformat": 4,
 "nbformat_minor": 4
}
