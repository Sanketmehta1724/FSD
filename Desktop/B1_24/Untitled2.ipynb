{
 "cells": [
  {
   "cell_type": "code",
   "execution_count": 56,
   "metadata": {},
   "outputs": [
    {
     "name": "stdout",
     "output_type": "stream",
     "text": [
      "1 Strong number\n"
     ]
    }
   ],
   "source": [
    "for i in range(1,1000):\n",
    "    sum = 0\n",
    "    j=i\n",
    "    for k in range(0,len(str(j))):\n",
    "        r = i%10\n",
    "        fact = i\n",
    "        while r>0:\n",
    "            fact *=r\n",
    "            r -= 1\n",
    "        sum += fact\n",
    "        i = i//10\n",
    "    if j == sum:\n",
    "        print(f\"{sum} Strong number\")"
   ]
  },
  {
   "cell_type": "code",
   "execution_count": 69,
   "metadata": {},
   "outputs": [
    {
     "name": "stdout",
     "output_type": "stream",
     "text": [
      "Enter time : 5\n",
      "Enter am/pm : am\n",
      "Enter time to add : 50\n",
      "Toatl time : 7 am\n"
     ]
    }
   ],
   "source": [
    "ct = int(input(\"Enter time : \"))\n",
    "am_pm = input(\"Enter am/pm : \")\n",
    "user = int(input(\"Enter time to add : \"))\n",
    "total = ct + user\n",
    "c=0\n",
    "if total>12:\n",
    "    while total>12:\n",
    "        total -= 12\n",
    "        c += 1\n",
    "        if am_pm == \"am\":\n",
    "            am_pm = \"pm\"\n",
    "        else:\n",
    "            am_pm = \"am\"\n",
    "    \n",
    "    if c==2:\n",
    "        print(f\"Toatl time : {total} {am_pm}\")\n",
    "    else:\n",
    "        print(f\"Toatl time : {total} {am_pm}\")\n",
    "else:\n",
    "    print(\"Invalid\")"
   ]
  },
  {
   "cell_type": "code",
   "execution_count": 78,
   "metadata": {},
   "outputs": [
    {
     "name": "stdout",
     "output_type": "stream",
     "text": [
      "Enter number (if you want to exit type done) : 5\n",
      "Enter number (if you want to exit type done) : 10\n",
      "Enter number (if you want to exit type done) : 15\n",
      "Enter number (if you want to exit type done) : 20\n",
      "Enter number (if you want to exit type done) : 25\n",
      "Enter number (if you want to exit type done) : 30\n",
      "Enter number (if you want to exit type done) : done\n",
      "10 30 5 25 20.0 15.0 17.5\n"
     ]
    }
   ],
   "source": [
    "min_e = min_o = 100\n",
    "max_e = max_o = avg_e = avg_o = sum_e = sum_o = sum = avg = 0\n",
    "c = c1 = c2 = 0\n",
    "flag = 0\n",
    "while flag!=1:\n",
    "    num = input(\"Enter number (if you want to exit type done) : \")\n",
    "    if num == \"done\":\n",
    "        flag = 1\n",
    "        break\n",
    "    num = int(num)\n",
    "    sum += num\n",
    "    c += 1\n",
    "    \n",
    "    if num%2==0:\n",
    "        sum_e += num\n",
    "        c1 += 1\n",
    "        if num>max_e:\n",
    "            max_e = num\n",
    "        if num<min_e:\n",
    "                min_e = num\n",
    "    else:\n",
    "        sum_o += num\n",
    "        c2 += 1\n",
    "        if num>max_o:\n",
    "            max_o = num\n",
    "        if num<min_o:\n",
    "            min_o = num\n",
    "                  \n",
    "avg_e = sum_e/c1\n",
    "avg_o = sum_o/c2\n",
    "avg = sum/c\n",
    "\n",
    "print(min_e,max_e,min_o,max_o,avg_e,avg_o,avg)"
   ]
  },
  {
   "cell_type": "code",
   "execution_count": 99,
   "metadata": {},
   "outputs": [
    {
     "name": "stdout",
     "output_type": "stream",
     "text": [
      "Enter Marks for student 1 : 1\n",
      "Enter Marks for student 2 : 2\n",
      "Enter Marks for student 3 : 3\n",
      "Enter Marks for student 4 : 4\n",
      "Enter Marks for student 5 : 5\n",
      "Enter Marks for student 6 : 6\n",
      "Enter Marks for student 7 : 7\n",
      "Enter Marks for student 8 : 8\n",
      "Enter Marks for student 9 : 9\n",
      "Enter Marks for student 10 : 10\n",
      "1 2 10 9 5.5 6.5\n"
     ]
    }
   ],
   "source": [
    "min = 100\n",
    "min_s = max = max_s = sum = avg = avg_s = 0\n",
    "for i in range(0,10):\n",
    "    mark = int(input(f\"Enter Marks for student {i+1} : \"))\n",
    "    if mark>max:\n",
    "        max_s = max\n",
    "        max = mark\n",
    "    if mark<min:\n",
    "        min_s = min\n",
    "        min = mark\n",
    "    if mark<min_s:\n",
    "        if mark>min:\n",
    "            min_s = mark\n",
    "            \n",
    "    sum += mark\n",
    "    \n",
    "avg = sum/10 \n",
    "avg_s = (sum-min-min_s)/8\n",
    "print(min,min_s,max,max_s,avg,avg_s)"
   ]
  }
 ],
 "metadata": {
  "kernelspec": {
   "display_name": "Python 3",
   "language": "python",
   "name": "python3"
  },
  "language_info": {
   "codemirror_mode": {
    "name": "ipython",
    "version": 3
   },
   "file_extension": ".py",
   "mimetype": "text/x-python",
   "name": "python",
   "nbconvert_exporter": "python",
   "pygments_lexer": "ipython3",
   "version": "3.8.5"
  }
 },
 "nbformat": 4,
 "nbformat_minor": 4
}
