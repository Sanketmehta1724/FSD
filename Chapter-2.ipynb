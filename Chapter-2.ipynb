{
 "cells": [
  {
   "cell_type": "markdown",
   "metadata": {},
   "source": [
    "# Chapter 2 -Conditional Execution & Integration\n"
   ]
  },
  {
   "cell_type": "code",
   "execution_count": 3,
   "metadata": {},
   "outputs": [
    {
     "name": "stdout",
     "output_type": "stream",
     "text": [
      "enter your namesanket\n",
      "how are you\n"
     ]
    }
   ],
   "source": [
    "name=input(\"enter your name\")\n",
    "if name==\"arman\":\n",
    "    print(\"hello arman\")\n",
    "print(\"how are you\")"
   ]
  },
  {
   "cell_type": "code",
   "execution_count": 7,
   "metadata": {},
   "outputs": [
    {
     "name": "stdout",
     "output_type": "stream",
     "text": [
      "enter your namesanket\n",
      "how are you\n"
     ]
    }
   ],
   "source": [
    "name=input(\"enter your name\")\n",
    "if name==\"arman\":\n",
    "    print(\"hello arman\")\n",
    "else:\n",
    "    print(\"how are you\")"
   ]
  },
  {
   "cell_type": "code",
   "execution_count": 11,
   "metadata": {},
   "outputs": [
    {
     "name": "stdout",
     "output_type": "stream",
     "text": [
      "enter your namesanket\n",
      "how are you\n"
     ]
    }
   ],
   "source": [
    "name=input(\"enter your name\")\n",
    "if name==\"arman\":\n",
    "    print(\"hello arman\")\n",
    "elif name==\"sanket\":\n",
    "    print(\"how are you\")\n",
    "else:print(\"hello\")"
   ]
  },
  {
   "cell_type": "code",
   "execution_count": 12,
   "metadata": {},
   "outputs": [
    {
     "name": "stdout",
     "output_type": "stream",
     "text": [
      "enter 1st number5\n",
      "enter 2st number6\n",
      "enter 3st number7\n",
      "7  is largest\n"
     ]
    }
   ],
   "source": [
    "x=int(input(\"enter 1st number\"))\n",
    "y=int(input(\"enter 2st number\"))\n",
    "z=int(input(\"enter 3st number\"))\n",
    "if(x>y and x>z):\n",
    "    print(x,\" is largest\")\n",
    "elif(y>z):\n",
    "    print(y,\" is largest\")\n",
    "else:\n",
    "    print(z,\" is largest\")"
   ]
  },
  {
   "cell_type": "markdown",
   "metadata": {},
   "source": [
    "# Iterative Statements"
   ]
  },
  {
   "cell_type": "markdown",
   "metadata": {},
   "source": [
    "# for loop"
   ]
  },
  {
   "cell_type": "markdown",
   "metadata": {},
   "source": [
    "syntax : for x in sequence:\n"
   ]
  },
  {
   "cell_type": "code",
   "execution_count": 16,
   "metadata": {},
   "outputs": [
    {
     "name": "stdout",
     "output_type": "stream",
     "text": [
      "a r m a n "
     ]
    }
   ],
   "source": [
    "x= \"arman\"\n",
    "for i in x:\n",
    "    print(i,end=\" \")"
   ]
  },
  {
   "cell_type": "code",
   "execution_count": 25,
   "metadata": {},
   "outputs": [
    {
     "name": "stdout",
     "output_type": "stream",
     "text": [
      "10 9 8 7 6 5 4 3 2 1 "
     ]
    }
   ],
   "source": [
    "for i in range(10,0,-1):\n",
    "    print(i , end=\" \")"
   ]
  },
  {
   "cell_type": "markdown",
   "metadata": {},
   "source": [
    "## "
   ]
  },
  {
   "cell_type": "code",
   "execution_count": 27,
   "metadata": {},
   "outputs": [
    {
     "name": "stdout",
     "output_type": "stream",
     "text": [
      "hello\n",
      "hello\n",
      "hello\n",
      "hello\n",
      "hello\n"
     ]
    }
   ],
   "source": [
    "for i in range(5):\n",
    "    print(\"hello\")"
   ]
  },
  {
   "cell_type": "code",
   "execution_count": 33,
   "metadata": {},
   "outputs": [
    {
     "name": "stdout",
     "output_type": "stream",
     "text": [
      "0\n",
      "1\n",
      "2\n",
      "3\n",
      "4\n",
      "5\n"
     ]
    }
   ],
   "source": [
    "a=0\n",
    "while(a<6):\n",
    "    print(a)\n",
    "    a=a+1"
   ]
  },
  {
   "cell_type": "code",
   "execution_count": 40,
   "metadata": {},
   "outputs": [
    {
     "name": "stdout",
     "output_type": "stream",
     "text": [
      "enter your name sanket\n",
      "thank you\n"
     ]
    }
   ],
   "source": [
    "# take user input using while loop till it give arman\n",
    "name=\"\"\n",
    "while(name!=\"sanket\"):\n",
    "    name=input(\"enter your name \")\n",
    "print(\"thank you\")"
   ]
  },
  {
   "cell_type": "code",
   "execution_count": 46,
   "metadata": {},
   "outputs": [
    {
     "name": "stdout",
     "output_type": "stream",
     "text": [
      "0\n",
      "1\n",
      "3\n",
      "4\n"
     ]
    }
   ],
   "source": [
    "for i in range(5):\n",
    "    if i==2 :\n",
    "        pass\n",
    "    else:\n",
    "        print(i)"
   ]
  },
  {
   "cell_type": "code",
   "execution_count": 50,
   "metadata": {},
   "outputs": [
    {
     "name": "stdout",
     "output_type": "stream",
     "text": [
      "enter characters5\n",
      "Consonant\n"
     ]
    }
   ],
   "source": [
    "# if a given character is vowels or consonents\n",
    "x=input(\"enter characters\")\n",
    "if x in 'aeiouAEIOU':\n",
    "    print(\"vowels\")\n",
    "else"
   ]
  },
  {
   "cell_type": "code",
   "execution_count": 5,
   "metadata": {},
   "outputs": [
    {
     "name": "stdout",
     "output_type": "stream",
     "text": [
      "enter the year 2000\n",
      "Leap year\n"
     ]
    }
   ],
   "source": [
    "# wap to check given year is leap year or not\n",
    "year=int(input(\"enter the year \"))\n",
    "if(year%400==0)or(year%4==0 and year%100!=0):\n",
    "    print(\"Leap year\")\n",
    "else:\n",
    "    print(\"Non-Leap year\")"
   ]
  },
  {
   "cell_type": "code",
   "execution_count": 12,
   "metadata": {},
   "outputs": [
    {
     "name": "stdout",
     "output_type": "stream",
     "text": [
      "enter 1st number12\n",
      "enter 2nd number1\n",
      "enter your choice from +,-,/,* +\n",
      "13\n"
     ]
    }
   ],
   "source": [
    "#wap to perform arithmetic operations according to the choices given \n",
    "a=int(input(\"enter 1st number\"))\n",
    "b=int(input(\"enter 2nd number\"))\n",
    "ch=input(\"enter your choice from +,-,/,* \")\n",
    "sum=0\n",
    "if ch==\"+\":\n",
    "    sum=a+b\n",
    "    print(sum)\n",
    "elif ch==\"-\":\n",
    "    sum=a-b\n",
    "    print(sum)\n",
    "elif ch==\"*\":\n",
    "    sum=a*b\n",
    "    print(sum)\n",
    "elif ch==\"/\":\n",
    "    sum=a/b\n",
    "    print(sum)\n",
    "else :\n",
    "    print(\"invalid choice\")"
   ]
  },
  {
   "cell_type": "code",
   "execution_count": 14,
   "metadata": {},
   "outputs": [
    {
     "name": "stdout",
     "output_type": "stream",
     "text": [
      "enter subject marks36\n",
      "Second Class\n"
     ]
    }
   ],
   "source": [
    "# wap to read a marks from the user and give the grade according to the marks\n",
    "a=int(input(\"enter subject marks\"))\n",
    "\n",
    "if(a>=0 and a<=34):\n",
    "    print(\"Fail\")\n",
    "elif(a>=35 and a<=59):\n",
    "    print(\"Second Class\")\n",
    "elif(a>=60 and a<=79):\n",
    "    print(\"First Class\")\n",
    "elif(a>=80 and a<=100):\n",
    "    print(\"Distinction\")\n",
    "else:\n",
    "    print(\"invalid choice\")"
   ]
  },
  {
   "cell_type": "code",
   "execution_count": 16,
   "metadata": {},
   "outputs": [
    {
     "name": "stdout",
     "output_type": "stream",
     "text": [
      "enter 1st subject marks80\n",
      "enter 2nd subject marks95\n",
      "enter 3rd subject marks97\n",
      "90.66666666666666\n",
      "Distinction\n"
     ]
    }
   ],
   "source": [
    "# wap to read a marks from the user and give the grade according to the marks\n",
    "x=int(input(\"enter 1st subject marks\"))\n",
    "y=int(input(\"enter 2nd subject marks\"))\n",
    "z=int(input(\"enter 3rd subject marks\"))\n",
    "a=((x+y+z)/300)*100\n",
    "print(a)\n",
    "if(a>=0 and a<=34):\n",
    "    print(\"Fail\")\n",
    "elif(a>=35 and a<=59):\n",
    "    print(\"Second Class\")\n",
    "elif(a>=60 and a<=79):\n",
    "    print(\"First Class\")\n",
    "elif(a>=80 and a<=100):\n",
    "    print(\"Distinction\")\n",
    "else:\n",
    "    print(\"invalid choice\")"
   ]
  },
  {
   "cell_type": "code",
   "execution_count": 30,
   "metadata": {},
   "outputs": [
    {
     "name": "stdout",
     "output_type": "stream",
     "text": [
      "enter the number id unit260\n",
      "you bill is  1100  rs\n"
     ]
    }
   ],
   "source": [
    "# wap to calculate electricity bill based on the number of units entered by the user\n",
    "unit=int(input(\"enter the number id unit\"))\n",
    "bill=0\n",
    "if (unit>=0 and unit<=100):\n",
    "    bill=unit*0\n",
    "elif(unit>100 and unit<=200):\n",
    "    bill=(unit-100)*5\n",
    "elif(unit>200):\n",
    "    bill=100*5+(unit-200)*10\n",
    "print(\"you bill is \",bill,\" rs\")"
   ]
  },
  {
   "cell_type": "code",
   "execution_count": 34,
   "metadata": {},
   "outputs": [
    {
     "name": "stdout",
     "output_type": "stream",
     "text": [
      "enter the number 16\n",
      "number is divisible by 3\n"
     ]
    }
   ],
   "source": [
    "#wap to check whether the last digit of a number enterd by the user is divissible by 3 or not\n",
    "a= int(input(\"enter the number \"))\n",
    "a=a%10\n",
    "if(a%3==0):\n",
    "    print(\"number is divisible by 3\")\n",
    "else:\n",
    "    print(\"not divisble\")"
   ]
  },
  {
   "cell_type": "code",
   "execution_count": 40,
   "metadata": {},
   "outputs": [
    {
     "name": "stdout",
     "output_type": "stream",
     "text": [
      "enter the number654\n",
      "middle digit is  5\n"
     ]
    }
   ],
   "source": [
    "#wap to check whether the number eneterd by a user is a three digit number and if it is 3 digit then display middle digit\n",
    "a=int(input(\"enter the number\"))\n",
    "b=a\n",
    "count=0\n",
    "while(a>0):\n",
    "    a=a//10\n",
    "    count=count+1\n",
    "if count==3:\n",
    "    b=b//10\n",
    "    b=b%10\n",
    "    print(\"middle digit is \",b)\n",
    "else:\n",
    "    print(\"not of length 3\")"
   ]
  },
  {
   "cell_type": "code",
   "execution_count": 42,
   "metadata": {},
   "outputs": [
    {
     "name": "stdout",
     "output_type": "stream",
     "text": [
      "enter the cost of the bike25000\n",
      "your tax is 1250.0\n",
      "your total cost of the bike is  26250.0\n"
     ]
    }
   ],
   "source": [
    "# wap  to accept acost of a bike and display the road taken also display the total cost of the bike\n",
    "cost=float(input(\"enter the cost of the bike\"))\n",
    "tax=0\n",
    "if cost<=50000:\n",
    "         tax=cost*0.05\n",
    "         print(\"your tax is\" ,tax)\n",
    "elif(cost>50000 and cost<=100000):\n",
    "         tax=cost*0.10\n",
    "         print(\"your tax is\" ,tax)\n",
    "elif(cost>100000):\n",
    "         tax=cost*0.10\n",
    "         print(\"your tax is\" ,tax)\n",
    "print(\"your total cost of the bike is \",cost+tax)"
   ]
  },
  {
   "cell_type": "code",
   "execution_count": 46,
   "metadata": {},
   "outputs": [
    {
     "name": "stdout",
     "output_type": "stream",
     "text": [
      "enter the number of working days365\n",
      "enter the number of absent days172\n",
      "not eligible\n",
      "percentage of the attendance  52.87671232876713\n"
     ]
    }
   ],
   "source": [
    "# wap accept the following from the user and calculate the percentage of the class attendace total working days and total number of days aFTER CALCULATING THE PERCENTAGE  show that if the percentage is less than 75 then you are not eleiglble for exam and if it greater than 75 then eligible\n",
    "workingdays=int(input(\"enter the number of working days\"))\n",
    "absentdays=int(input(\"enter the number of absent days\"))\n",
    "totaldays=workingdays-absentdays\n",
    "percentage=(totaldays/workingdays)*100\n",
    "if(percentage>75):\n",
    "    print(\"eligible\")\n",
    "else:\n",
    "    print(\"not eligible\")\n",
    "print(\"percentage of the attendance \",percentage)"
   ]
  },
  {
   "cell_type": "code",
   "execution_count": 54,
   "metadata": {},
   "outputs": [
    {
     "name": "stdout",
     "output_type": "stream",
     "text": [
      "enter the first side1\n",
      "enter the second side2\n",
      "enter the third side1\n",
      "isoscles triangle\n"
     ]
    }
   ],
   "source": [
    "# accept the three sides of a triangle and check whether it is equilateraial isoscles or scalen triangle\n",
    "#equilatrial triangle in which all sidesa are equal\n",
    "#scalen triabgle has 3 unequal sides\n",
    "# an  isoscles triangle have atleast two equal sides\n",
    "s1=int(input(\"enter the first side\"))\n",
    "s2=int(input(\"enter the second side\"))\n",
    "s3=int(input(\"enter the third side\"))\n",
    "if(s1==s2==s3):\n",
    "    print(\"equilaterial triangle\")\n",
    "elif(s1!=s2 and s2!=s3 and s1!=s3):\n",
    "    print(\"saclen trianlge\")\n",
    "else:\n",
    "    print(\"isoscles triangle\")"
   ]
  },
  {
   "cell_type": "code",
   "execution_count": 58,
   "metadata": {},
   "outputs": [
    {
     "name": "stdout",
     "output_type": "stream",
     "text": [
      "enter the age 20\n",
      "enter your gender M/FM\n",
      "enter the number id days you worked12\n",
      "8400\n"
     ]
    }
   ],
   "source": [
    "# accept the age,gender and number of days and display the wages according to days\n",
    "age=int(input(\"enter the age \"))\n",
    "gender=input(\"enter your gender M/F\")\n",
    "days=int(input(\"enter the number id days you worked\"))\n",
    "wages=0\n",
    "if(age>=18 and age<30):\n",
    "    if(gender==\"M\"):\n",
    "        wages=700*days\n",
    "    elif(gender==\"F\"):\n",
    "        wages=750*days\n",
    "    else:\n",
    "        print(\"enter appropriate gender\")\n",
    "elif(age>=30 and age<40):\n",
    "    if(gender==\"M\"):\n",
    "        wages=800*days\n",
    "    elif(gender==\"F\"):\n",
    "        wages=850*days\n",
    "    else:\n",
    "        print(\"enter appropriate gender\")\n",
    "else:\n",
    "    print(\"enter appropriate age\")\n",
    "print(wages)"
   ]
  },
  {
   "cell_type": "code",
   "execution_count": 3,
   "metadata": {},
   "outputs": [
    {
     "name": "stdout",
     "output_type": "stream",
     "text": [
      "enter first number 1\n",
      "enter second number 20\n",
      "enter third number 3\n",
      "6\n"
     ]
    }
   ],
   "source": [
    "# wap to read 3 numbers and check how many numbers available between first two numbers are divisible by third number\n",
    "a=int(input(\"enter first number \"))\n",
    "b=int(input(\"enter second number \"))\n",
    "c=int(input(\"enter third number \"))\n",
    "count=0\n",
    "for i in range(a,b+1):\n",
    "    if(i%c==0):\n",
    "        count=count+1\n",
    "print(count)"
   ]
  },
  {
   "cell_type": "code",
   "execution_count": 6,
   "metadata": {},
   "outputs": [
    {
     "name": "stdout",
     "output_type": "stream",
     "text": [
      "enter the number : 3\n",
      "6\n",
      "2.0\n"
     ]
    }
   ],
   "source": [
    "# wap to find sum of n numbers also find the average of that \n",
    "a=int(input(\"enter the number : \"))\n",
    "sum1=0\n",
    "avg=0\n",
    "for i in range(a+1):\n",
    "    sum1=sum1+i\n",
    "print(sum1)\n",
    "avg=sum1/a\n",
    "print(avg)"
   ]
  },
  {
   "cell_type": "code",
   "execution_count": 8,
   "metadata": {},
   "outputs": [
    {
     "name": "stdout",
     "output_type": "stream",
     "text": [
      "enter the number : 25\n",
      "25 * 1 = 25\n",
      "25 * 2 = 50\n",
      "25 * 3 = 75\n",
      "25 * 4 = 100\n",
      "25 * 5 = 125\n",
      "25 * 6 = 150\n",
      "25 * 7 = 175\n",
      "25 * 8 = 200\n",
      "25 * 9 = 225\n",
      "25 * 10 = 250\n"
     ]
    }
   ],
   "source": [
    "# give me table of any numbrt\n",
    "a=int(input(\"enter the number : \"))\n",
    "for i in range (1,11):\n",
    "    print(a,\"*\",i,\"=\",a*i)"
   ]
  },
  {
   "cell_type": "code",
   "execution_count": 10,
   "metadata": {},
   "outputs": [
    {
     "name": "stdout",
     "output_type": "stream",
     "text": [
      "enter the multiple : 2\n",
      "enter the ans : 8\n",
      "3\n"
     ]
    }
   ],
   "source": [
    "# wap to find integer exponent x such that \n",
    "a=int(input(\"enter the multiple : \"))\n",
    "b=int(input(\"enter the ans : \"))\n",
    "x=1\n",
    "while(a**x!=b):\n",
    "    x=x+1\n",
    "print(x)"
   ]
  },
  {
   "cell_type": "code",
   "execution_count": 18,
   "metadata": {},
   "outputs": [
    {
     "name": "stdout",
     "output_type": "stream",
     "text": [
      "enter the number : 0\n",
      "0 factorial is :  1\n"
     ]
    }
   ],
   "source": [
    "#wap to find the factorial of a given number\n",
    "a=int(input(\"enter the number : \"))\n",
    "sum=1\n",
    "if(a<0):\n",
    "    print(\"please enter positive number\")\n",
    "\n",
    "else:\n",
    "    for i in range(1,a+1):\n",
    "        sum*=i\n",
    "    print(a,\"factorial is : \",sum)"
   ]
  },
  {
   "cell_type": "code",
   "execution_count": 18,
   "metadata": {},
   "outputs": [
    {
     "name": "stdout",
     "output_type": "stream",
     "text": [
      "enter the number of terms : 6\n",
      "0\n",
      "1\n",
      "1\n",
      "2\n",
      "3\n",
      "5\n"
     ]
    }
   ],
   "source": [
    "#wap to display fiboncacii sequence upto n terms\n",
    "a=int(input(\"enter the number of terms : \"))\n",
    "x=0\n",
    "y=1\n",
    "z=0\n",
    "if(a>=2):\n",
    "    print(x)\n",
    "    print(y)\n",
    "    for i in range(a-2):\n",
    "        z=x+y\n",
    "        print(z)\n",
    "        x=y\n",
    "        y=z\n",
    "elif(a==1):\n",
    "    print(\"0\")\n",
    "else:\n",
    "    print(\"enter a postive number\")\n"
   ]
  },
  {
   "cell_type": "code",
   "execution_count": 1,
   "metadata": {},
   "outputs": [
    {
     "name": "stdout",
     "output_type": "stream",
     "text": [
      "enter the 1 number: 10\n",
      "enter the 2 number: 20\n",
      "enter the 3 number: 30\n",
      "enter the 4 number: 40\n",
      "enter the 5 number: 50\n",
      "enter the 6 number: 60\n",
      "enter the 7 number: 70\n",
      "enter the 8 number: 80\n",
      "enter the 9 number: 90\n",
      "enter the 10 number: 100\n",
      "550\n",
      "55.0\n"
     ]
    }
   ],
   "source": [
    "#wap to take 10 numbers from user and display their sum and avreage\n",
    "sum=0\n",
    "avg=0\n",
    "for i in range(1,11):\n",
    "    a=int(input(f'enter the {i} number: '))\n",
    "    sum=sum+a\n",
    "print(sum)\n",
    "avg=sum/10\n",
    "print(avg)"
   ]
  },
  {
   "cell_type": "code",
   "execution_count": 3,
   "metadata": {},
   "outputs": [
    {
     "name": "stdout",
     "output_type": "stream",
     "text": [
      "enter the 1 number: 1\n",
      "enter the 2 number: 2\n",
      "enter the 3 number: 3\n",
      "enter the 4 number: 4\n",
      "enter the 5 number: 5\n",
      "enter the 6 number: 6\n",
      "enter the 7 number: 7\n",
      "enter the 8 number: 8\n",
      "enter the 9 number: 9\n",
      "enter the 10 number: 10\n",
      "5\n",
      "30\n",
      "5\n",
      "25\n"
     ]
    }
   ],
   "source": [
    "#wap to count total odd and even numbers and also do the sum of them\n",
    "oddcount=0\n",
    "evencount=0\n",
    "oddsum=0\n",
    "evensum=0\n",
    "for i in range(1,11):\n",
    "    a=int(input(f'enter the {i} number: '))\n",
    "    if(a%2==0):\n",
    "        evencount=evencount+1\n",
    "        evensum=evensum+a\n",
    "    else:\n",
    "        oddcount=oddcount+1\n",
    "        oddsum=oddsum+a\n",
    "print(evencount)\n",
    "print(evensum)\n",
    "print(oddcount)\n",
    "print(oddsum)\n"
   ]
  },
  {
   "cell_type": "code",
   "execution_count": 4,
   "metadata": {},
   "outputs": [
    {
     "name": "stdout",
     "output_type": "stream",
     "text": [
      "enter the 1 number: 1\n",
      "enter the 2 number: -1\n",
      "enter the 3 number: 2\n",
      "enter the 4 number: 3\n",
      "enter the 5 number: 4\n",
      "enter the 6 number: 5\n",
      "enter the 7 number: -6\n",
      "enter the 8 number: -5\n",
      "enter the 9 number: -8\n",
      "enter the 10 number: 10\n",
      "3\n",
      "16\n",
      "3\n",
      "9\n"
     ]
    }
   ],
   "source": [
    "#wap to count total odd and even numbers and also do the sum of them\n",
    "oddcount=0\n",
    "evencount=0\n",
    "oddsum=0\n",
    "evensum=0\n",
    "for i in range(1,11):\n",
    "    a=int(input(f'enter the {i} number: '))\n",
    "    if(a<0):\n",
    "        pass\n",
    "    elif(a%2==0):\n",
    "        evencount=evencount+1\n",
    "        evensum=evensum+a\n",
    "    else:\n",
    "        oddcount=oddcount+1\n",
    "        oddsum=oddsum+a\n",
    "print(evencount)\n",
    "print(evensum)\n",
    "print(oddcount)\n",
    "print(oddsum)\n",
    "\n"
   ]
  },
  {
   "cell_type": "code",
   "execution_count": 9,
   "metadata": {},
   "outputs": [
    {
     "name": "stdout",
     "output_type": "stream",
     "text": [
      "enter the number of terms : 123\n",
      " not palindrome\n",
      "321\n"
     ]
    }
   ],
   "source": [
    "# wap to find reverse number of given number\n",
    "a=int(input(\"enter the number of terms : \"))\n",
    "reverse=0\n",
    "n=a\n",
    "while(a>0):\n",
    "    r=a%10\n",
    "    reverse=reverse*10+r\n",
    "    a=a//10\n",
    "if(reverse==n):\n",
    "    print(\"palindrome\")\n",
    "else:\n",
    "    print(\" not palindrome\")\n",
    "\n",
    "print(reverse)"
   ]
  },
  {
   "cell_type": "code",
   "execution_count": 17,
   "metadata": {},
   "outputs": [
    {
     "name": "stdout",
     "output_type": "stream",
     "text": [
      "enter the number: 1634\n",
      "armstrong\n"
     ]
    }
   ],
   "source": [
    "# wap to check given number is armstrong number or not\n",
    "a=int(input(\"enter the number: \"))\n",
    "b=str(a)\n",
    "c=len(b)\n",
    "n=a\n",
    "reverse=0\n",
    "while(a>0):\n",
    "    r=a%10\n",
    "    reverse=reverse+r**c\n",
    "    a=a//10\n",
    "if(reverse==n):\n",
    "    print(\"armstrong\")\n",
    "else:\n",
    "        print(\" not armstrong\")\n"
   ]
  },
  {
   "cell_type": "code",
   "execution_count": 20,
   "metadata": {},
   "outputs": [
    {
     "name": "stdout",
     "output_type": "stream",
     "text": [
      "enter the number: 0\n",
      "not prime\n"
     ]
    }
   ],
   "source": [
    "# wap to check whther given number is prime or not\n",
    "a=int(input(\"enter the number: \"))\n",
    "count=0\n",
    "for i in range(2,a+1):\n",
    "    if(a%i==0):\n",
    "        count=count+1\n",
    "if(count==1):\n",
    "    print(\"prime\")\n",
    "else:\n",
    "    print(\"not prime\")"
   ]
  },
  {
   "cell_type": "code",
   "execution_count": 26,
   "metadata": {},
   "outputs": [
    {
     "name": "stdout",
     "output_type": "stream",
     "text": [
      "enter the number: 1\n",
      "enter the number: 10\n",
      "2 3 5 7 "
     ]
    }
   ],
   "source": [
    "# wap to find prime numbers\n",
    "x=int(input(\"enter the number: \"))\n",
    "y=int(input(\"enter the number: \"))\n",
    "\n",
    "for a in range(x,y+1):\n",
    "    count=0\n",
    "\n",
    "    for i in range(2,a+1):Zz\n",
    "        if(a%i==0):\n",
    "            count=count+1\n",
    "    if(count==1):\n",
    "        print(a,end=\" \")\n"
   ]
  },
  {
   "cell_type": "code",
   "execution_count": 25,
   "metadata": {},
   "outputs": [
    {
     "name": "stdout",
     "output_type": "stream",
     "text": [
      "enter number  of 1 st range: 1\n",
      "enter number  of 1 st range: 100\n",
      "1\n",
      "7\n",
      "10\n",
      "13\n",
      "19\n",
      "23\n",
      "28\n",
      "31\n",
      "32\n",
      "44\n",
      "49\n",
      "68\n",
      "70\n",
      "79\n",
      "82\n",
      "86\n",
      "91\n",
      "94\n",
      "97\n",
      "100\n"
     ]
    }
   ],
   "source": [
    "#wap to check the enter number is happy number or not\n",
    "b=int(input(\"enter number  of 1 st range: \"))\n",
    "c=int(input(\"enter number  of 1 st range: \"))\n",
    "for i in range(b,c+1):\n",
    "    x=i\n",
    "    while(True):\n",
    "   \n",
    "        if(x==4):\n",
    "          \n",
    "            break\n",
    "        elif(x==1):\n",
    "         \n",
    "            print(i)\n",
    "            break\n",
    "        else:\n",
    "            sum=0\n",
    "            while(x>0):\n",
    "                r=x%10\n",
    "                sum=sum+(r**2)\n",
    "                x=x//10\n",
    "        x=sum\n"
   ]
  },
  {
   "cell_type": "code",
   "execution_count": 34,
   "metadata": {},
   "outputs": [
    {
     "name": "stdout",
     "output_type": "stream",
     "text": [
      "enter number5\n",
      "*\n",
      "**\n",
      "***\n",
      "****\n",
      "*****\n"
     ]
    }
   ],
   "source": [
    "# wap to print pattern\n",
    "n=int(input(\"enter number\"))\n",
    "for i in range(n):\n",
    "    for j in range( i+1):\n",
    "        print(\"*\",end=\"\")\n",
    "    print()"
   ]
  },
  {
   "cell_type": "code",
   "execution_count": 39,
   "metadata": {},
   "outputs": [
    {
     "name": "stdout",
     "output_type": "stream",
     "text": [
      "enter number5\n",
      "1 \n",
      "2 2 \n",
      "3 3 3 \n",
      "4 4 4 4 \n",
      "5 5 5 5 5 \n"
     ]
    }
   ],
   "source": [
    "# wap to print pattern\n",
    "n=int(input(\"enter number\"))\n",
    "for i in range(1,n+1):\n",
    "    for j in range(1,i+1):\n",
    "        print(i,end=\" \")\n",
    "    print()"
   ]
  },
  {
   "cell_type": "code",
   "execution_count": 67,
   "metadata": {},
   "outputs": [
    {
     "name": "stdout",
     "output_type": "stream",
     "text": [
      "enter number10\n",
      "Enter Namesanket\n",
      "s  \n",
      "s a  \n",
      "s a n  \n",
      "s a n k  \n",
      "s a n k e  \n",
      "s a n k e t  \n"
     ]
    }
   ],
   "source": [
    "# wap to print pattern\n",
    "n=int(input(\"enter number\"))\n",
    "s=input(\"Enter Name\")\n",
    "c=6\n",
    "x=\"\"\n",
    "if()\n",
    "for i in s:\n",
    "    n=n-1\n",
    "    c=1\n",
    "    for j in range(1,c+1):\n",
    "        x=x+i+\" \"\n",
    "        print(x,end=\" \")\n",
    "    c=c+1\n",
    "    \n",
    "    if(n==0):\n",
    "        break\n",
    "    print()"
   ]
  },
  {
   "cell_type": "code",
   "execution_count": 44,
   "metadata": {},
   "outputs": [
    {
     "name": "stdout",
     "output_type": "stream",
     "text": [
      "enter number5\n",
      "a \n",
      "b c \n",
      "d e f \n",
      "g h i j \n",
      "k l m n o \n"
     ]
    }
   ],
   "source": [
    "# wap to print pattern\n",
    "n=int(input(\"enter number\"))\n",
    "k=97\n",
    "\n",
    "for i in range(1,n+1):\n",
    "    for j in range(1,i+1):\n",
    "        print(chr(k),end=\" \")\n",
    "        k=k+1\n",
    "    print()"
   ]
  },
  {
   "cell_type": "code",
   "execution_count": 52,
   "metadata": {},
   "outputs": [
    {
     "name": "stdout",
     "output_type": "stream",
     "text": [
      "enter number5\n",
      "1 1 1 1 1 \n",
      "2 2 2 2 \n",
      "3 3 3 \n",
      "4 4 \n",
      "5 \n"
     ]
    }
   ],
   "source": [
    "# wap to print pattern\n",
    "n=int(input(\"enter number\"))\n",
    "\n",
    "\n",
    "for i in range(1,n+1):\n",
    "    k=65\n",
    "    \n",
    "    for j in range(1,n+2-i):\n",
    "        print(i,end=\" \")\n",
    "        k=k+1\n",
    "    print()"
   ]
  },
  {
   "cell_type": "code",
   "execution_count": 61,
   "metadata": {},
   "outputs": [
    {
     "name": "stdout",
     "output_type": "stream",
     "text": [
      "enter number5\n",
      "* \n",
      "# # \n",
      "* * * \n",
      "# # # # \n",
      "* * * * * \n"
     ]
    }
   ],
   "source": [
    "# wap to print pattern\n",
    "n=int(input(\"enter number\"))\n",
    "for i in range(1,n+1):\n",
    "    for j in range(1,i+1):\n",
    "        if(i%2==0):\n",
    "            print(\"#\",end=\" \")\n",
    "        else:\n",
    "            print(\"*\",end=\" \")\n",
    "    print()"
   ]
  },
  {
   "cell_type": "code",
   "execution_count": 70,
   "metadata": {},
   "outputs": [
    {
     "name": "stdout",
     "output_type": "stream",
     "text": [
      "enter number5\n",
      "1 \n",
      "0 1 \n",
      "1 0 1 \n",
      "0 1 0 1 \n",
      "1 0 1 0 1 \n"
     ]
    }
   ],
   "source": [
    "# wap to print pattern\n",
    "n=int(input(\"enter number\"))\n",
    "for i in range(1,n+1):\n",
    "    for j in range(1,i+1):\n",
    "        if((i+j)%2==0):\n",
    "            print(\"1\",end=\" \")\n",
    "        else:\n",
    "            print(\"0\",end=\" \")\n",
    "    print()"
   ]
  },
  {
   "cell_type": "code",
   "execution_count": 77,
   "metadata": {},
   "outputs": [
    {
     "name": "stdout",
     "output_type": "stream",
     "text": [
      "enter number5\n",
      "  * * * * * \n",
      "    * * * * \n",
      "      * * * \n",
      "        * * \n",
      "          * \n"
     ]
    }
   ],
   "source": [
    "# wap to print pattern\n",
    "n=int(input(\"enter number\"))\n",
    "for i in range(1,n+1):\n",
    "        for j in range(1,i+1):\n",
    "            print(\" \",end=\" \")\n",
    "        for k in range(1,n+2-i):\n",
    "            print(\"*\",end=\" \")\n",
    "        print()"
   ]
  },
  {
   "cell_type": "code",
   "execution_count": 78,
   "metadata": {},
   "outputs": [
    {
     "name": "stdout",
     "output_type": "stream",
     "text": [
      "enter number5\n",
      " * * * * * \n",
      "  * * * * \n",
      "   * * * \n",
      "    * * \n",
      "     * \n"
     ]
    }
   ],
   "source": [
    "# wap to print pattern\n",
    "n=int(input(\"enter number\"))\n",
    "for i in range(1,n+1):\n",
    "        for j in range(1,i+1):\n",
    "            print(\" \",end=\"\")\n",
    "        for k in range(i,n+1):\n",
    "            print(\"*\",end=\" \")\n",
    "        print()"
   ]
  },
  {
   "cell_type": "code",
   "execution_count": 86,
   "metadata": {},
   "outputs": [
    {
     "name": "stdout",
     "output_type": "stream",
     "text": [
      "enter number5\n",
      "     1 \n",
      "    A B \n",
      "   1 2 3 \n",
      "  A B C D \n",
      " 1 2 3 4 5 \n"
     ]
    }
   ],
   "source": [
    "# wap to print pattern\n",
    "n=int(input(\"enter number\"))\n",
    "\n",
    "\n",
    "for i in range(1,n+1):\n",
    "    x=1\n",
    "    y=65\n",
    "    for j in range(1,n+2-i):\n",
    "        print(\" \",end=\"\")\n",
    "    for k in range(1,i+1):\n",
    "                if(i%2==0):\n",
    "                    print(chr(y),end=\" \")  \n",
    "                    y=y+1\n",
    "                else:\n",
    "                    print(x,end=\" \")  \n",
    "                    x=x+1\n",
    "    print()"
   ]
  },
  {
   "cell_type": "code",
   "execution_count": 64,
   "metadata": {},
   "outputs": [
    {
     "name": "stdout",
     "output_type": "stream",
     "text": [
      "enter number5\n",
      "*                 * \n",
      "* *             * * \n",
      "* * *         * * * \n",
      "* * * *     * * * * \n",
      "* * * * * * * * * * \n",
      "* * * * * * * * * * \n",
      "* * * *     * * * * \n",
      "* * *         * * * \n",
      "* *             * * \n",
      "*                 * \n"
     ]
    }
   ],
   "source": [
    "# wap to print pattern\n",
    "n=int(input(\"enter number\"))\n",
    "for i in range(1,n+1):\n",
    "    for j in range(1,i+1):\n",
    "        print(\"*\",end=\" \")\n",
    "    for k in range(1,n+1-i):\n",
    "            print(\" \",end=\" \")\n",
    "    for l in range(1,n+1-i):\n",
    "        print(\" \",end=\" \")\n",
    "    for m in range(1,i+1):\n",
    "        print(\"*\",end=\" \")\n",
    "    print()\n",
    "for i in range(1,n+1):\n",
    "    for l in range(1,n+2-i):\n",
    "        print(\"*\",end=\" \")\n",
    "    for m in range(1,i):\n",
    "        print(\" \",end=\" \")\n",
    "    \n",
    "    for j in range(1,i):\n",
    "        print(\" \",end=\" \")\n",
    "    for k in range(1,n+2-i):\n",
    "            print(\"*\",end=\" \")\n",
    "   \n",
    "    print()"
   ]
  },
  {
   "cell_type": "code",
   "execution_count": 37,
   "metadata": {},
   "outputs": [
    {
     "name": "stdout",
     "output_type": "stream",
     "text": [
      "Argument passes into x returns x\n"
     ]
    }
   ],
   "source": [
    "def squarrednumber(x):\n",
    "    \"\"\"Argument passes into x returns x\"\"\"\n",
    "    return x*x\n",
    "print(squarrednumber.__doc__)"
   ]
  },
  {
   "cell_type": "code",
   "execution_count": 14,
   "metadata": {},
   "outputs": [
    {
     "name": "stdout",
     "output_type": "stream",
     "text": [
      "\n",
      "    Returns the sum of two decimal numbers\n",
      "    Parameters:\n",
      "    a(int): A decimal number\n",
      "    b(int): Another decimal number\n",
      "    Returns;\n",
      "    Sum:sum of a AND B\n",
      "    \n"
     ]
    }
   ],
   "source": [
    "def add(a,b):\n",
    "    \"\"\"\n",
    "    Returns the sum of two decimal numbers\n",
    "    Parameters:\n",
    "    a(int): A decimal number\n",
    "    b(int): Another decimal number\n",
    "    Returns;\n",
    "    Sum:sum of a AND B\n",
    "    \"\"\"\n",
    "    sum=a+b\n",
    "    return sum\n",
    "print(add.__doc__)"
   ]
  },
  {
   "cell_type": "markdown",
   "metadata": {},
   "source": [
    "# <font color=\"black\">Types of Arguments</font>"
   ]
  },
  {
   "cell_type": "markdown",
   "metadata": {},
   "source": [
    "# <font color=\"black\">1.Postional Argument</font>"
   ]
  },
  {
   "cell_type": "code",
   "execution_count": 20,
   "metadata": {},
   "outputs": [
    {
     "name": "stdout",
     "output_type": "stream",
     "text": [
      "-100\n",
      "100\n"
     ]
    }
   ],
   "source": [
    "def sub(a,b):\n",
    "    print(a-b)\n",
    "sub(100,200)\n",
    "sub(200,100)"
   ]
  },
  {
   "cell_type": "markdown",
   "metadata": {},
   "source": [
    "# <font color=\"black\">2.Keyword Argument</font>\n"
   ]
  },
  {
   "cell_type": "code",
   "execution_count": 23,
   "metadata": {},
   "outputs": [
    {
     "ename": "SyntaxError",
     "evalue": "positional argument follows keyword argument (<ipython-input-23-096ff68de185>, line 7)",
     "output_type": "error",
     "traceback": [
      "\u001b[1;36m  File \u001b[1;32m\"<ipython-input-23-096ff68de185>\"\u001b[1;36m, line \u001b[1;32m7\u001b[0m\n\u001b[1;33m    wish(name='arman',\"good morning\")\u001b[0m\n\u001b[1;37m                      ^\u001b[0m\n\u001b[1;31mSyntaxError\u001b[0m\u001b[1;31m:\u001b[0m positional argument follows keyword argument\n"
     ]
    }
   ],
   "source": [
    "def wish(name,msg):\n",
    "    print(\"hello\",name,msg)\n",
    "wish(name=\"arman\",msg=\"good morning\")\n",
    "wish(msg=\"good morning\",name=\"arman\")\n",
    "wish(\"arman\",\"good morning\")\n",
    "wish(\"arman\",msg=\"good morning\")\n",
    "wish(name='arman',\"good morning\")"
   ]
  },
  {
   "cell_type": "markdown",
   "metadata": {},
   "source": [
    "## <font color=\"black\">3.Default Argument</font>\n"
   ]
  },
  {
   "cell_type": "code",
   "execution_count": 24,
   "metadata": {},
   "outputs": [
    {
     "name": "stdout",
     "output_type": "stream",
     "text": [
      "hello arman\n",
      "hello guest\n"
     ]
    }
   ],
   "source": [
    "def wish(name=\"guest\"):\n",
    "    print(\"hello\",name)\n",
    "wish(\"arman\")\n",
    "wish()"
   ]
  },
  {
   "cell_type": "markdown",
   "metadata": {},
   "source": [
    "#  <font color=\"black\">4.Variable Length Argument</font>\n"
   ]
  },
  {
   "cell_type": "code",
   "execution_count": 52,
   "metadata": {},
   "outputs": [
    {
     "name": "stdout",
     "output_type": "stream",
     "text": [
      "1\n",
      "5\n"
     ]
    }
   ],
   "source": [
    "def fun(*n):\n",
    "    total=0\n",
    "    for n1 in n:\n",
    "        total=total+1\n",
    "    print(total)\n",
    "fun(10)\n",
    "fun(1,1,2,3,4)"
   ]
  },
  {
   "cell_type": "markdown",
   "metadata": {},
   "source": [
    "#  <font color=\"black\">5.Kwargs Length Argument</font>\n"
   ]
  },
  {
   "cell_type": "code",
   "execution_count": 69,
   "metadata": {},
   "outputs": [
    {
     "name": "stdout",
     "output_type": "stream",
     "text": [
      "{'m1': 20, 'm2': 22}\n",
      "20\n",
      "22\n",
      "m1\n",
      "m2\n"
     ]
    }
   ],
   "source": [
    "def display(**kwargs):\n",
    "    print(kwargs)\n",
    "    for k in kwargs.values():\n",
    "        print(k)\n",
    "    for k in kwargs.keys():\n",
    "        print(k)\n",
    "display(m1=20,m2=22)"
   ]
  },
  {
   "cell_type": "markdown",
   "metadata": {},
   "source": [
    " #  <font color=\"black\">Programs</font>\n"
   ]
  },
  {
   "cell_type": "markdown",
   "metadata": {},
   "source": [
    "***"
   ]
  },
  {
   "cell_type": "code",
   "execution_count": 75,
   "metadata": {},
   "outputs": [
    {
     "name": "stdout",
     "output_type": "stream",
     "text": [
      "enter the number from 1/converting celcius to farehnhit and 2/converting celcius to farehnhit 2\n",
      "enter the farenhit value356\n",
      "180.0 *c\n"
     ]
    }
   ],
   "source": [
    "def farenhit1(cel):\n",
    "    f=(cel*9/5)+32\n",
    "    print(f,\"F\")\n",
    "def celcius(far):\n",
    "    c=(far-32)*5/9\n",
    "    print(c,\"*c\")\n",
    "n=int(input(\"enter the number from 1/converting celcius to farehnhit and 2/converting celcius to farehnhit \"))\n",
    "if(n==1):\n",
    "    cel=float(input(\"enter the celcius value\"))\n",
    "    farenhit1(cel)\n",
    "elif(n==2):\n",
    "    far=float(input(\"enter the farenhit value\"))\n",
    "    celcius(far)\n",
    "else:\n",
    "    print(\"enter possible value\")\n"
   ]
  },
  {
   "cell_type": "code",
   "execution_count": 78,
   "metadata": {},
   "outputs": [
    {
     "name": "stdout",
     "output_type": "stream",
     "text": [
      "enter the num1\n",
      "enter the start range: 1\n",
      "enter the end range: 10\n",
      "yes\n"
     ]
    }
   ],
   "source": [
    "def fun(num,start,end):\n",
    "    for i in range(start,end+1):\n",
    "        if(i==num):\n",
    "            return \"yes\"\n",
    "    return \"No\"\n",
    "n=int(input(\"enter the num\"))\n",
    "start=int(input(\"enter the start range: \"))\n",
    "end=int(input(\"enter the end range: \"))\n",
    "print(fun(n,start,end))"
   ]
  },
  {
   "cell_type": "code",
   "execution_count": 94,
   "metadata": {},
   "outputs": [
    {
     "name": "stdout",
     "output_type": "stream",
     "text": [
      "True\n",
      "enter the number: 153\n",
      "1 for palindrome: \n",
      "2 for armstrong: \n",
      "3 for prime: \n",
      "4 for happy: \n",
      "enter the choice: 1\n",
      "not palindrome\n"
     ]
    }
   ],
   "source": [
    "def armstrong(num):\n",
    "      \n",
    "        count=0\n",
    "        while(x>0):\n",
    "            count=count+1\n",
    "            x=x//10\n",
    "        n=a\n",
    "        reverse=0\n",
    "        while(a>0):\n",
    "            r=a%10\n",
    "            reverse=reverse+r**count\n",
    "            a=a//10\n",
    "        if(reverse==n):\n",
    "            print(\"armstrong\")\n",
    "        else:\n",
    "                print(\" not armstrong\")\n",
    "def prime(num):\n",
    "    # wap to find prime numbers\n",
    "    \n",
    "\n",
    "   \n",
    "\n",
    "        for i in range(2,num+1):\n",
    "            if(num%i==0):\n",
    "                count=count+1\n",
    "        if(count==1):\n",
    "            print(num,end=\" \")\n",
    "def happy(num):\n",
    "    \n",
    "            x=num\n",
    "            while(True):\n",
    "   \n",
    "                if(x==4):\n",
    "                    print(\"not happy number\")\n",
    "                    break\n",
    "                elif(x==1):\n",
    "         \n",
    "                    print(\"happy number\")\n",
    "                    break\n",
    "                else:\n",
    "                    sum=0\n",
    "                    while(x>0):\n",
    "                        r=x%10\n",
    "                        sum=sum+(r**2)\n",
    "                        x=x//10\n",
    "                x=sum\n",
    "def palindrome(num):\n",
    "    x=num\n",
    "    reverse=0\n",
    "    while(num>0):\n",
    "            r=num%10\n",
    "            reverse=(reverse*10)+r\n",
    "            num=num//10\n",
    "    if(reverse==x):\n",
    "        print(\"palindrome\")\n",
    "    else:\n",
    "        print(\"not palindrome\")\n",
    "def check(num):\n",
    "    count=0\n",
    "    while(num>0):\n",
    "        num=num//10\n",
    "        count=count+1\n",
    "    return count==3\n",
    "x=check(153)\n",
    "print(x)\n",
    "\n",
    "b=int(input(\"enter the number: \"))\n",
    "if(not check(b)):\n",
    "    print(\"not 3 num\")\n",
    "else:\n",
    "    print(\"1 for palindrome: \")\n",
    "    print(\"2 for armstrong: \")\n",
    "    print(\"3 for prime: \")\n",
    "    print(\"4 for happy: \")\n",
    "    a=int(input(\"enter the choice: \"))\n",
    "    if(a==1):\n",
    "        palindrome(b)\n",
    "    elif(a==2):\n",
    "        armstrong(b)\n",
    "    elif(a==3):\n",
    "        prime(b)\n",
    "    elif(a==4):\n",
    "        happy(b)"
   ]
  },
  {
   "cell_type": "code",
   "execution_count": null,
   "metadata": {},
   "outputs": [],
   "source": [
    "def check(num):\n",
    "    count=0\n",
    "    while(num>0):\n",
    "        num=num//10\n",
    "        count=count+1\n",
    "    return count==3\n",
    "x=check(153)\n",
    "print(x)"
   ]
  },
  {
   "cell_type": "code",
   "execution_count": 2,
   "metadata": {},
   "outputs": [
    {
     "name": "stdout",
     "output_type": "stream",
     "text": [
      "enter the num2\n",
      "111112\n",
      "111121\n",
      "111211\n",
      "112111\n",
      "121111\n",
      "211111\n"
     ]
    }
   ],
   "source": [
    "# wap that enter single digit integer and produces all possible 6 digit numbers for which the products of that digits \n",
    "#equal to the eneterd num\n",
    "a=int(input(\"enter the num\"))\n",
    "for i in range(100000,1000000):\n",
    "    x=i\n",
    "    sum=1\n",
    "    while(x>0):\n",
    "        r=x%10\n",
    "        sum=sum*r\n",
    "        x=x//10\n",
    "    if(sum==a):\n",
    "        print(i)"
   ]
  },
  {
   "cell_type": "code",
   "execution_count": 13,
   "metadata": {},
   "outputs": [
    {
     "name": "stdout",
     "output_type": "stream",
     "text": [
      "enter the number1\n",
      "enter the number2\n",
      "enter the number3\n",
      "enter the number3\n",
      "enter the numberstop\n",
      "1\n",
      "3\n",
      "9\n",
      "2.25\n"
     ]
    }
   ],
   "source": [
    "#wap that prompts the user to enter the number and stops only the user enter stop\n",
    "sum=0\n",
    "min=0\n",
    "max=0\n",
    "count=1\n",
    "c=0\n",
    "while(True):\n",
    "       \n",
    "        a=input(\"enter the number\")\n",
    "        if(count==1):\n",
    "            min=int(a)\n",
    "            count=count+1\n",
    "        if(a==\"stop\"):\n",
    "            break\n",
    "        if(min >= int(a)):\n",
    "            min=int(a)\n",
    "        elif(max<int(a)):\n",
    "            max=int(a)\n",
    "        sum=sum+int(a)\n",
    "        c=c+1\n",
    "\n",
    "print(min)\n",
    "print(max)\n",
    "print(sum)\n",
    "print(sum/c)"
   ]
  },
  {
   "cell_type": "code",
   "execution_count": 3,
   "metadata": {},
   "outputs": [
    {
     "name": "stdout",
     "output_type": "stream",
     "text": [
      "Enter the Grade Level From A to FA\n",
      "enter the cities class from the 1,2,31\n",
      "this is your income tax rate according to your grade level and cities  142800.0\n"
     ]
    }
   ],
   "source": [
    "#9 marks program income tax caculator\n",
    "\n",
    "def tax(annualpay):\n",
    "    if(annualpay<=250000):\n",
    "        return annualpay\n",
    "    elif(annualpay>250000 and annualpay<=500000):\n",
    "        newpay=(annualpay-250000)*0.05\n",
    "        return newpay\n",
    "    elif(annualpay>500000 and annualpay<=750000):\n",
    "        newpay=(annualpay-500000)*0.1+12500\n",
    "        return newpay\n",
    "    elif(annualpay>750000 and annualpay<=1000000):\n",
    "        newpay=(annualpay-750000)*0.15+37500\n",
    "        return newpay\n",
    "    elif(annualpay>1000000 and annualpay<=1250000):\n",
    "        newpay=(annualpay-1000000)*0.2+75000\n",
    "        return newpay\n",
    "    elif(annualpay>1250000 and annualpay<=1500000):\n",
    "        newpay=(annualpay-1250000)*0.25+125000\n",
    "        return newpay\n",
    "    elif(annualpay>1500000):\n",
    "         newpay=(annualpay-1500000)*0.3+187500\n",
    "         return newpay\n",
    "Gradelevel=input(\"Enter the Grade Level From A to F\")\n",
    "cities=int(input(\"enter the cities class from the 1,2,3\"))\n",
    "Grosspay=0\n",
    "\n",
    "\n",
    "\n",
    "professionaltax=200\n",
    "\n",
    "\n",
    "if (Gradelevel==\"A\"):\n",
    "    Basicpay=60000\n",
    "    Otherallowence=8000\n",
    "    DA=0.5*Basicpay\n",
    "    providedfund=0.11*Basicpay\n",
    "    transportallowence=900\n",
    "    if(cities==1):\n",
    "        hra=0.3*Basicpay\n",
    "        Grosspay=Basicpay+hra+DA+Otherallowence+transportallowence-professionaltax-providedfund\n",
    "        annualpay=Grosspay*12\n",
    "        incometax=tax(annualpay)\n",
    "        print(\"this is your income tax rate according to your grade level and cities \",incometax)\n",
    "    elif(cities==2):\n",
    "        hra=0.2*Basicpay\n",
    "        Grosspay=Basicpay+hra+DA+Otherallowence+transportallowence-professionaltax-providedfund\n",
    "        annualpay=Grosspay*12\n",
    "        incometax=tax(annualpay)\n",
    "        print(\"this is your income tax rate according to your grade level and cities \",incometax)\n",
    "    elif(cities==3):\n",
    "        hra=0.1*Basicpay\n",
    "        Grosspay=Basicpay+hra+DA+Otherallowence+transportallowence-professionaltax-providedfund\n",
    "        annualpay=Grosspay*12\n",
    "        incometax=tax(annualpay)\n",
    "        print(\"this is your income tax rate according to your grade level and cities \",incometax)\n",
    "    else:\n",
    "        print(\"Enter legal cities\")\n",
    "elif(Gradelevel==\"B\"):\n",
    "    Basicpay=50000\n",
    "    Otherallowence=7000\n",
    "    DA=0.5*Basicpay\n",
    "    providedfund=0.11*Basicpay\n",
    "    transportallowence=900\n",
    "    if(cities==1):\n",
    "        hra=0.3*Basicpay\n",
    "        Grosspay=Basicpay+hra+DA+Otherallowence+transportallowence-professionaltax-providedfund\n",
    "        annualpay=Grosspay*12\n",
    "        incometax=tax(annualpay)\n",
    "        print(\"this is your income tax rate according to your grade level and cities \",incometax)\n",
    "    elif(cities==2):\n",
    "        hra=0.2*Basicpay\n",
    "        Grosspay=Basicpay+hra+DA+Otherallowence+transportallowence-professionaltax-providedfund\n",
    "        annualpay=Grosspay*12\n",
    "        incometax=tax(annualpay)\n",
    "        print(\"this is your income tax rate according to your grade level and cities \",incometax)\n",
    "    elif(cities==3):\n",
    "        hra=0.1*Basicpay\n",
    "        Grosspay=Basicpay+hra+DA+Otherallowence+transportallowence-professionaltax-providedfund\n",
    "        annualpay=Grosspay*12\n",
    "        incometax=tax(annualpay)\n",
    "        print(\"this is your income tax rate according to your grade level and cities \",incometax)\n",
    "    else:\n",
    "        print(\"Enter legal cities\")\n",
    "elif(Gradelevel==\"C\"):\n",
    "    Basicpay=40000\n",
    "    Otherallowence=6000\n",
    "    DA=0.5*Basicpay\n",
    "    providedfund=0.11*Basicpay\n",
    "    transportallowence=900\n",
    "    if(cities==1):\n",
    "        hra=0.3*Basicpay\n",
    "        Grosspay=Basicpay+hra+DA+Otherallowence+transportallowence-professionaltax-providedfund\n",
    "        annualpay=Grosspay*12\n",
    "        incometax=tax(annualpay)\n",
    "        print(\"this is your income tax rate according to your grade level and cities \",incometax)\n",
    "    elif(cities==2):\n",
    "        hra=0.2*Basicpay\n",
    "        Grosspay=Basicpay+hra+DA+Otherallowence+transportallowence-professionaltax-providedfund\n",
    "        annualpay=Grosspay*12\n",
    "        incometax=tax(annualpay)\n",
    "        print(\"this is your income tax rate according to your grade level and cities \",incometax)\n",
    "    elif(cities==3):\n",
    "        hra=0.1*Basicpay\n",
    "        Grosspay=Basicpay+hra+DA+Otherallowence+transportallowence-professionaltax-providedfund\n",
    "        annualpay=Grosspay*12\n",
    "        incometax=tax(annualpay)\n",
    "        print(\"this is your income tax rate according to your grade level and cities \",incometax)\n",
    "    else:\n",
    "        print(\"Enter legal cities\")\n",
    "elif(Gradelevel==\"D\"):\n",
    "    Basicpay=30000\n",
    "    Otherallowence=5000\n",
    "    DA=0.5*Basicpay\n",
    "    providedfund=0.11*Basicpay\n",
    "    transportallowence=900\n",
    "    if(cities==1):\n",
    "        hra=0.3*Basicpay\n",
    "        Grosspay=Basicpay+hra+DA+Otherallowence+transportallowence-professionaltax-providedfund\n",
    "        annualpay=Grosspay*12\n",
    "        incometax=tax(annualpay)\n",
    "        print(\"this is your income tax rate according to your grade level and cities \",incometax)\n",
    "    elif(cities==2):\n",
    "        hra=0.2*Basicpay\n",
    "        Grosspay=Basicpay+hra+DA+Otherallowence+transportallowence-professionaltax-providedfund\n",
    "        annualpay=Grosspay*12\n",
    "        incometax=tax(annualpay)\n",
    "        print(\"this is your income tax rate according to your grade level and cities \",incometax)\n",
    "    elif(cities==3):\n",
    "        hra=0.1*Basicpay\n",
    "        Grosspay=Basicpay+hra+DA+Otherallowence+transportallowence-professionaltax-providedfund\n",
    "        annualpay=Grosspay*12\n",
    "        incometax=tax(annualpay)\n",
    "        print(\"this is your income tax rate according to your grade level and cities \",incometax)\n",
    "    else:\n",
    "        print(\"Enter legal cities\")\n",
    "elif(Gradelevel==\"E\"):\n",
    "    Basicpay=20000\n",
    "    Otherallowence=4000\n",
    "    DA=0.5*Basicpay\n",
    "    providedfund=0.11*Basicpay\n",
    "    transportallowence=900\n",
    "    if(cities==1):\n",
    "        hra=0.3*Basicpay\n",
    "        Grosspay=Basicpay+hra+DA+Otherallowence+transportallowence-professionaltax-providedfund\n",
    "        annualpay=Grosspay*12\n",
    "        incometax=tax(annualpay)\n",
    "        print(\"this is your income tax rate according to your grade level and cities \",incometax)\n",
    "    elif(cities==2):\n",
    "        hra=0.2*Basicpay\n",
    "        Grosspay=Basicpay+hra+DA+Otherallowence+transportallowence-professionaltax-providedfund\n",
    "        annualpay=Grosspay*12\n",
    "        incometax=tax(annualpay)\n",
    "        print(\"this is your income tax rate according to your grade level and cities \",incometax)\n",
    "    elif(cities==3):\n",
    "        hra=0.1*Basicpay\n",
    "        Grosspay=Basicpay+hra+DA+Otherallowence+transportallowence-professionaltax-providedfund\n",
    "        annualpay=Grosspay*12\n",
    "        incometax=tax(annualpay)\n",
    "        print(\"this is your income tax rate according to your grade level and cities \",incometax)\n",
    "    else:\n",
    "        print(\"Enter legal cities\")\n",
    "elif(Gradelevel==\"F\"):\n",
    "    Basicpay=10000\n",
    "    Otherallowence=3000\n",
    "    DA=0.5*Basicpay\n",
    "    providedfund=0.11*Basicpay\n",
    "    transportallowence=900\n",
    "    if(cities==1):\n",
    "        hra=0.3*Basicpay\n",
    "        Grosspay=Basicpay+hra+DA+Otherallowence+transportallowence-professionaltax-providedfund\n",
    "        annualpay=Grosspay*12\n",
    "        incometax=tax(annualpay)\n",
    "        print(\"this is your income tax rate according to your grade level and cities \",incometax)\n",
    "    elif(cities==2):\n",
    "        hra=0.2*Basicpay\n",
    "        Grosspay=Basicpay+hra+DA+Otherallowence+transportallowence-professionaltax-providedfund\n",
    "        annualpay=Grosspay*12\n",
    "        incometax=tax(annualpay)\n",
    "        print(\"this is your income tax rate according to your grade level and cities \",incometax)\n",
    "    elif(cities==3):\n",
    "        hra=0.1*Basicpay\n",
    "        Grosspay=Basicpay+hra+DA+Otherallowence+transportallowence-professionaltax-providedfund\n",
    "        annualpay=Grosspay*12\n",
    "        incometax=tax(annualpay)\n",
    "        print(\"this is your income tax rate according to your grade level and cities \",incometax)\n",
    "    else:\n",
    "        print(\"Enter legal cities\")\n",
    "else:\n",
    "    print(\"enter valid Grade Level\")"
   ]
  },
  {
   "cell_type": "code",
   "execution_count": 2,
   "metadata": {},
   "outputs": [
    {
     "name": "stdout",
     "output_type": "stream",
     "text": [
      "enter  year2021\n",
      "enter  month2\n",
      "enter  date29\n",
      "new date=  2021 - 3 - 1\n"
     ]
    }
   ],
   "source": [
    "#3 wapt to get next day of a given day\n",
    "year=int(input(\"enter  year\"))\n",
    "month=int(input(\"enter  month\"))\n",
    "date=int(input(\"enter  date\"))\n",
    "newyear=year\n",
    "newmonth=month\n",
    "newdate=date\n",
    "if ((year%4==0 and year%100!=0)) or (year%400==0):\n",
    "    if (month==2):\n",
    "        if(date>=0 and date<29):\n",
    "            newdate=date+1\n",
    "        else:\n",
    "            newdate=1\n",
    "            newmonth=month+1\n",
    "    elif(month==1 or month==3 or month==5 or month==7 or month==8 or month==10 or month==12) :\n",
    "            if(month!=12):\n",
    "                if(date>=0 and date<31):\n",
    "                    newdate=date+1\n",
    "                else:\n",
    "                    newdate=1\n",
    "                    newmonth=month+1\n",
    "            else:\n",
    "                if(date>=0 and date<31):\n",
    "                    newdate=date+1\n",
    "                else:\n",
    "                    newdate=1\n",
    "                    newmonth=1\n",
    "                    newyear=year+1\n",
    "    else:\n",
    "            if(month!=12):\n",
    "                if(date>=0 and date<30):\n",
    "                    newdate=date+1\n",
    "                else:\n",
    "                    newdate=1\n",
    "                    newmonth=month+1\n",
    "            else:\n",
    "                if(date>=0 and date<30):\n",
    "                    newdate=date+1\n",
    "                else:\n",
    "                    newdate=1\n",
    "                    newmonth=1\n",
    "                    newyear=year+1\n",
    "else:\n",
    "    if (month==2):\n",
    "        if(date>=0 and date<28):\n",
    "            newdate=date+1\n",
    "        else:\n",
    "            newdate=1\n",
    "            newmonth=month+1\n",
    "    elif(month==1 or month==3 or month==5 or month==7 or month==8 or month==10 or month==12) :\n",
    "            if(month!=12):\n",
    "                if(date>=0 and date<31):\n",
    "                    newdate=date+1\n",
    "                else:\n",
    "                    newdate=1\n",
    "                    newmonth=month+1\n",
    "            else:\n",
    "                if(date>=0 and date<31):\n",
    "                    newdate=date+1\n",
    "                else:\n",
    "                    newdate=1\n",
    "                    newmonth=1\n",
    "                    newyear=year+1\n",
    "    else:\n",
    "            if(month!=12):\n",
    "                if(date>=0 and date<30):\n",
    "                    newdate=date+1\n",
    "                else:\n",
    "                    newdate=1\n",
    "                    newmonth=month+1\n",
    "            else:\n",
    "                if(date>=0 and date<30):\n",
    "                    newdate=date+1\n",
    "                else:\n",
    "                    newdate=1\n",
    "                    newmonth=1\n",
    "                    newyear=year+1\n",
    "print(\"new date= \",newyear,\"-\",newmonth,\"-\",newdate)           "
   ]
  },
  {
   "cell_type": "code",
   "execution_count": 6,
   "metadata": {},
   "outputs": [
    {
     "name": "stdout",
     "output_type": "stream",
     "text": [
      "enter number254120\n",
      "365231\n"
     ]
    }
   ],
   "source": [
    "n=input(\"enter number\")\n",
    "k=\"\"\n",
    "for i in n:\n",
    "    if(i==\"9\"):\n",
    "        k+=\"0\"\n",
    "    else:\n",
    "        k+=str(int(i)+1)\n",
    "print(k)"
   ]
  },
  {
   "cell_type": "code",
   "execution_count": null,
   "metadata": {},
   "outputs": [],
   "source": []
  }
 ],
 "metadata": {
  "kernelspec": {
   "display_name": "Python 3",
   "language": "python",
   "name": "python3"
  },
  "language_info": {
   "codemirror_mode": {
    "name": "ipython",
    "version": 3
   },
   "file_extension": ".py",
   "mimetype": "text/x-python",
   "name": "python",
   "nbconvert_exporter": "python",
   "pygments_lexer": "ipython3",
   "version": "3.8.5"
  }
 },
 "nbformat": 4,
 "nbformat_minor": 4
}
